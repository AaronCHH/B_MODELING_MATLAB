{
 "cells": [
  {
   "cell_type": "markdown",
   "metadata": {},
   "source": [
    "# 19 Nonlinear Systems"
   ]
  },
  {
   "cell_type": "code",
   "execution_count": 1,
   "metadata": {
    "collapsed": false
   },
   "outputs": [
    {
     "name": "stderr",
     "output_type": "stream",
     "text": [
      "C:\\Anaconda3\\lib\\site-packages\\IPython\\nbformat.py:13: ShimWarning: The `IPython.nbformat` package has been deprecated. You should import from nbformat instead.\n",
      "  \"You should import from nbformat instead.\", ShimWarning)\n"
     ]
    },
    {
     "name": "stdout",
     "output_type": "stream",
     "text": [
      "Starting MATLAB on ZMQ socket tcp://127.0.0.1:24052\n",
      "Send 'exit' command to kill the server\n",
      "......MATLAB started and connected!\n"
     ]
    }
   ],
   "source": [
    "%load_ext pymatbridge"
   ]
  },
  {
   "cell_type": "markdown",
   "metadata": {},
   "source": [
    "## 19.1 Logistic Growth"
   ]
  },
  {
   "cell_type": "code",
   "execution_count": null,
   "metadata": {
    "collapsed": false
   },
   "outputs": [],
   "source": [
    "# %load ch19/logistic.m\n",
    "function logistic\n",
    "% Logistic growth     \n",
    "%    using MATLAB for analytical solution                   \n",
    "%\n",
    "%   $Ekkehard Holzbecher  $Date: 2006/04/20 $\n",
    "%--------------------------------------------------------------------------\n",
    "T = 10;                  % maximum time\n",
    "r = 1;                   % rate \n",
    "kappa = 1;               % capacity\n",
    "c0 = 0.01;               % initial value\n",
    "\n",
    "%----------------------execution-------------------------------------------\n",
    "\n",
    "t = linspace (0,T,100);\n",
    "e = exp(r*t);\n",
    "c = c0*kappa*e./(kappa+c0*(e-1));\n",
    "\n",
    "%---------------------- graphical output ----------------------------------\n",
    "\n",
    "plot (t,c); grid;\n",
    "xlabel ('time'); legend ('population');\n",
    "title ('logistic growth');\n",
    "\n"
   ]
  },
  {
   "cell_type": "markdown",
   "metadata": {},
   "source": [
    "## 19.2 Competing Species"
   ]
  },
  {
   "cell_type": "code",
   "execution_count": null,
   "metadata": {
    "collapsed": true
   },
   "outputs": [],
   "source": [
    "# %load ch19/compspec.m\n",
    "function compspec\n",
    "% Competing species phase diagram  \n",
    "%    using MATLAB ode                   \n",
    "%\n",
    "%   $Ekkehard Holzbecher  $Date: 2006/09/04 $\n",
    "%--------------------------------------------------------------------------\n",
    "T = 1000;                % maximum time\n",
    "r = [1; 1];              % rates \n",
    "e = [1; 1];              % equilibria\n",
    "lambda = 1;              % lambda parameter\n",
    "c0 = [1; 1];             % initial concentrations\n",
    "\n",
    "gtraj = 1;               % trajectory plot\n",
    "gquiv = 20;              % arrow field plot; value for no. of arrows in 1D\n",
    "xmin = 0; xmax = 1;      % x- interval for arrow field plot\n",
    "ymin = 0; ymax = 1;      % y-     \"     \"    \"     \"     \"\n",
    "scale = 2;               % scaling factor for arrows \n",
    "%----------------------execution-------------------------------------------\n",
    "\n",
    "options = odeset('AbsTol',1e-20);\n",
    "[~,c] = ode15s(@CS,[0 T],c0,options,r,e,lambda);\n",
    "\n",
    "%---------------------- graphical output ----------------------------------\n",
    "\n",
    "if (gtraj)\n",
    "    plot (c(:,1)',c(:,2)'); hold on;\n",
    "    plot (e(1),0,'s'); plot (0,e(2),'s');\n",
    "    legend ('trajectory');\n",
    "    xlabel ('specie 1'); ylabel ('specie 2');\n",
    "    title ('Competing species');\n",
    "end\n",
    "if (gquiv)\n",
    "    [x,y] = meshgrid (linspace(xmin,xmax,gquiv),linspace(ymin,ymax,gquiv));\n",
    "    dy = zeros(gquiv,gquiv,2);\n",
    "    for i = 1:gquiv \n",
    "        for j = 1:gquiv\n",
    "            dy(i,j,:) = CS(0,[x(i,j);y(i,j)],r,e,lambda);\n",
    "        end\n",
    "    end\n",
    "    quiver (x,y,dy(:,:,1),dy(:,:,2),scale);\n",
    "end\n",
    "\n",
    "%---------------------- function ------------------------------------------\n",
    "function dydt = CS(~,y,r,e,lambda)\n",
    "k = [e(1)/(1+lambda*y(2)/y(1)); e(2)/(1+y(1)/y(2)/lambda)];\n",
    "dydt = r.*y.*(1-y./k);\n"
   ]
  },
  {
   "cell_type": "markdown",
   "metadata": {},
   "source": [
    "## 19.3 Predator-Prey Models"
   ]
  },
  {
   "cell_type": "code",
   "execution_count": null,
   "metadata": {
    "collapsed": true
   },
   "outputs": [],
   "source": [
    "# %load ch19/predprey.m\n",
    "function predprey\n",
    "% Predator-prey time series and phase diagram    \n",
    "%    using MATLAB ode                   \n",
    "%\n",
    "%   $Ekkehard Holzbecher  $Date: 2006/04/20 $\n",
    "%--------------------------------------------------------------------------\n",
    "T = 100;                 % maximum time\n",
    "r = [.5; .5];            % single specie rates \n",
    "a = [1; 1];              % alpha parameter\n",
    "c0 = [0.1; 0.1];         % initial population\n",
    "\n",
    "%----------------------execution-------------------------------------------\n",
    "\n",
    "options = odeset('AbsTol',1e-20);\n",
    "[t,c] = ode15s(@PP,[0 T],c0,options,r,a);\n",
    "\n",
    "%---------------------- graphical output ----------------------------------\n",
    "\n",
    "subplot (2,1,1);\n",
    "plot (c(:,1)',c(:,2)'); hold on;\n",
    "legend ('trajectory');\n",
    "xlabel ('prey'); ylabel ('predator');\n",
    "subplot (2,1,2);\n",
    "plot (t,c(:,1)','-',t,c(:,2)','--');\n",
    "legend ('prey','predator');\n",
    "xlabel ('time');\n",
    "\n",
    "%---------------------- function ------------------------------------------\n",
    "\n",
    "function dydt = PP(t,y,r,a)\n",
    "dydt = zeros(2,1);\n",
    "dydt(1) = y(1)*(r(1)-y(2)*a(1));\n",
    "dydt(2) = y(2)*(-r(2)+y(1)*a(2));\n"
   ]
  },
  {
   "cell_type": "markdown",
   "metadata": {},
   "source": [
    "## 19.4 Chaos (Lorenz Attractor)"
   ]
  },
  {
   "cell_type": "code",
   "execution_count": null,
   "metadata": {
    "collapsed": true
   },
   "outputs": [],
   "source": [
    "# %load ch19/lorenza.m\n",
    "function lorenza\n",
    "% Lorenz convection model \n",
    "\n",
    "sigma = 16; rho = 45.92; beta = 4;  % parameters \n",
    "N = 1000;         % no. of time steps\n",
    "span = 0.05;      % inner iteration span\n",
    "AbsTol = 1.e-5;   % absolute tolerance for ODE solver\n",
    "RelTol = 1.e-5;   % relative tolerance for ODE solver\n",
    "\n",
    "H = figure; set(H,'DefaultLineLineWidth',1.0);\n",
    "options = odeset('RelTol',RelTol,'AbsTol',ones(1,3)*AbsTol);\n",
    "u0 = [1;1;1];\n",
    "for i = 1:N\n",
    "    [t,u] = ode45(@lornz,[0 span],u0,odeset,beta,rho,sigma);\n",
    "    hold on; \n",
    "    plot(u(:,1),u(:,2),'r'); \n",
    "    u0 = u(end,:); \n",
    "end\n",
    "\n",
    "title('Attractor of Lorenz System');\n",
    "xlabel('Component 1'); ylabel('Component 2');\n",
    "axis off; hold off;\n",
    "\n",
    "function dydt = lornz(t,y,beta,rho,sigma)\n",
    "dydt = [sigma*(y(2)-y(1)); rho*y(1)-y(2)-y(1)*y(3); y(1)*y(2)-beta*y(3)];"
   ]
  },
  {
   "cell_type": "markdown",
   "metadata": {},
   "source": [
    "## References"
   ]
  },
  {
   "cell_type": "code",
   "execution_count": null,
   "metadata": {
    "collapsed": true
   },
   "outputs": [],
   "source": []
  }
 ],
 "metadata": {
  "anaconda-cloud": {},
  "kernelspec": {
   "display_name": "Python [default]",
   "language": "python",
   "name": "python3"
  },
  "language_info": {
   "codemirror_mode": {
    "name": "ipython",
    "version": 3
   },
   "file_extension": ".py",
   "mimetype": "text/x-python",
   "name": "python",
   "nbconvert_exporter": "python",
   "pygments_lexer": "ipython3",
   "version": "3.5.2"
  }
 },
 "nbformat": 4,
 "nbformat_minor": 1
}
