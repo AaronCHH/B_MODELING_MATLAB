{
 "cells": [
  {
   "cell_type": "markdown",
   "metadata": {},
   "source": [
    "# 21 Numerical Methods: Finite Differences"
   ]
  },
  {
   "cell_type": "code",
   "execution_count": 1,
   "metadata": {
    "collapsed": false
   },
   "outputs": [
    {
     "name": "stderr",
     "output_type": "stream",
     "text": [
      "C:\\Anaconda3\\lib\\site-packages\\IPython\\nbformat.py:13: ShimWarning: The `IPython.nbformat` package has been deprecated. You should import from nbformat instead.\n",
      "  \"You should import from nbformat instead.\", ShimWarning)\n"
     ]
    },
    {
     "name": "stdout",
     "output_type": "stream",
     "text": [
      "Starting MATLAB on ZMQ socket tcp://127.0.0.1:24141\n",
      "Send 'exit' command to kill the server\n",
      "......MATLAB started and connected!\n"
     ]
    }
   ],
   "source": [
    "%load_ext pymatbridge"
   ]
  },
  {
   "cell_type": "markdown",
   "metadata": {},
   "source": [
    "## 21.1 Introductory Example"
   ]
  },
  {
   "cell_type": "code",
   "execution_count": null,
   "metadata": {
    "collapsed": true
   },
   "outputs": [],
   "source": [
    "# %load ch21/numdemo.m\n",
    "% numerics demonstration (for decay equation)                   \n",
    "%\n",
    "%   $Ekkehard Holzbecher  $Date: 2011/04/10 $\n",
    "%--------------------------------------------------------------------------\n",
    "clear all;\n",
    "Tmax = 1;\n",
    "lambda = 2;\n",
    "c0 = 1;\n",
    "\n",
    "% plot analytical solution\n",
    "marker='sod.sod.sod.';\n",
    "plot (Tmax*[0:.01:1],c0*exp(-lambda*(Tmax*[0:.01:1])),'-r');\n",
    "hold on\n",
    "\n",
    "% compute and plot numerical solutions\n",
    "deltat = .5*Tmax;\n",
    "for i = 1:12\n",
    "    f = 1-lambda*deltat;\n",
    "    c(1) = c0;\n",
    "    for j = 2:2^i+1\n",
    "        c(j)=c(j-1)*f;\n",
    "    end\n",
    "    plot (linspace(0,Tmax,2^i+1),c,['-' marker(i)]);\n",
    "    deltat=deltat/2;\n",
    "    cend(i) = c(end);\n",
    "end\n",
    "legend ('analytical',['\\Delta' 't=.5'],['\\Delta' 't=.25'],['\\Delta' 't=.125'],['\\Delta' 't=.0625']) \n",
    "cend\n",
    "    "
   ]
  },
  {
   "cell_type": "markdown",
   "metadata": {},
   "source": [
    "## 21.2 Finite Differences"
   ]
  },
  {
   "cell_type": "code",
   "execution_count": null,
   "metadata": {
    "collapsed": true
   },
   "outputs": [],
   "source": []
  },
  {
   "cell_type": "markdown",
   "metadata": {},
   "source": [
    "## 21.3 A Finite Difference Example"
   ]
  },
  {
   "cell_type": "code",
   "execution_count": null,
   "metadata": {
    "collapsed": true
   },
   "outputs": [],
   "source": [
    "# %load ch21/Poisson1.m\n",
    "% solution of Poisson equation using sparse matrix\n",
    "%\n",
    "%  E.Holzbecher,    18.3.2011 \n",
    "%\n",
    "%--------------------------------------------------\n",
    "nx = 12; ny = 4;       % dimensions in x- and y-direction\n",
    "h = 1/4;                % grid spacing \n",
    "btop = 1;             % boundary condition at top side \n",
    "bbottom = 0;          % boundary condition at bottom side\n",
    "q = 1;               % right hand side (source term)\n",
    "\n",
    "N = nx*ny;\n",
    "d = [-nx,-1,0,1,nx];\n",
    "B = [ones(N,2) -4*ones(N,1) ones(N,2)];\n",
    "b = -q*h*h*ones(N,1);\n",
    "for i = 1:nx\n",
    "    b(i) = b(i)-btop;\n",
    "    b(N+1-i) = b(N+1-i)-bbottom;\n",
    "end\n",
    "for i = 1:ny\n",
    "   B((i-1)*nx+1,3) = -3;\n",
    "   B(i*nx,2) = 0;\n",
    "   B(i*nx,3) = -3;\n",
    "   B(i*nx+1,4) = 0;\n",
    "end\n",
    "\n",
    "A = spdiags(B,d,N,N);\n",
    "\n",
    "% processing: solution\n",
    "U = A\\b;\n",
    "U = reshape(U,nx,ny);\n",
    "\n",
    "% check & visualize\n",
    "4*del2(U)\n",
    "% surf(U)                % does not include boundary values \n",
    "surf([btop*ones(nx,1) U bbottom*ones(nx,1)])\n",
    "\n"
   ]
  },
  {
   "cell_type": "markdown",
   "metadata": {},
   "source": [
    "## 21.4 Solution for the 2D Poisson equation"
   ]
  },
  {
   "cell_type": "code",
   "execution_count": null,
   "metadata": {
    "collapsed": true
   },
   "outputs": [],
   "source": [
    "# %load ch21/Poisson2.m\n",
    "% solution of Poisson equation using sparse matrix\n",
    "%\n",
    "%  E.Holzbecher,    18.3.2011 \n",
    "%\n",
    "%--------------------------------------------------\n",
    "nx = 12; ny = 12;      % dimensions in x- and y-direction\n",
    "h = 1/4;                % grid spacing\n",
    "\n",
    "% boundary type indicators (1=Dirichlet, 0=Neumann no-flow)\n",
    "ltop = logical(zeros(1,nx));         % top\n",
    "lbottom = logical(zeros(1,nx));      % bottom\n",
    "lleft = logical([ones(6,1) zeros(6,1)]);       % left\n",
    "lright = logical([zeros(6,1) ones(6,1)]);      % right\n",
    "\n",
    "% boundary values (Dirichlet only)\n",
    "btop = ones(1,nx);                  % top\n",
    "bbottom = zeros(1,nx);              % bottom\n",
    "bleft = ones(ny,1);                 % left\n",
    "bright = zeros(ny,1);               % right\n",
    "\n",
    "q = 1*ones(nx,ny);                  % right hand side (source term)\n",
    "\n",
    "N = nx*ny;\n",
    "d = [-nx,-1,0,1,nx];\n",
    "B = [ones(N,2) -4*ones(N,1) ones(N,2)];\n",
    "q = reshape(q,N,1);\n",
    "b = -h*h*q.*ones(N,1);\n",
    "for i = 1:nx\n",
    "    if ltop(i)\n",
    "        b(i) = b(i)-btop(i);\n",
    "    else\n",
    "        B(i,3) = -3;\n",
    "        %B(i-1,1) = 0;\n",
    "    end\n",
    "    if lbottom(i)\n",
    "        b(N-nx+i) = b(N-nx+i)-bbottom(i);\n",
    "    else\n",
    "        B(N-nx+i,3) = -3;\n",
    "        % B(N-nx+i,5) = 0;\n",
    "    end\n",
    "end\n",
    "for i = 1:ny\n",
    "    B(i*nx,2) = 0; \n",
    "    if i<ny B(i*nx+1,4) = 0; end    \n",
    "    if lleft(i)\n",
    "        b((i-1)*nx+1) = b((i-1)*nx+1)-bleft(i);\n",
    "    else\n",
    "        B((i-1)*nx+1,3) = B((i-1)*nx+1,3)+1;\n",
    "    end\n",
    "    if lright(i)\n",
    "        b(i*nx) = b(i*nx)-bright(i);\n",
    "    else\n",
    "        B(i*nx,3) = B(i*nx,3)+1;\n",
    "    end\n",
    "end\n",
    "\n",
    "A = spdiags(B,d,N,N);\n",
    "\n",
    "% processing: solution\n",
    "U = A\\b;\n",
    "U = reshape(U,nx,ny);\n",
    "\n",
    "% check & visualize\n",
    "4*del2(U) \n",
    "surf (U)\n",
    "\n"
   ]
  },
  {
   "cell_type": "markdown",
   "metadata": {},
   "source": [
    "## 21.5 Solution for the 2D Diffusion-Decay Equation"
   ]
  },
  {
   "cell_type": "code",
   "execution_count": null,
   "metadata": {
    "collapsed": true
   },
   "outputs": [],
   "source": [
    "# %load ch21/DiffDecay2D.m\n",
    "% solution of 2D diffusion-decay equation using sparse matrix\n",
    "%\n",
    "%  E.Holzbecher,    19.3.2011 \n",
    "%\n",
    "%--------------------------------------------------\n",
    "nx = 12; ny = 12;                  % dimensions in x- and y-direction\n",
    "h = 1/4;                           % grid spacing\n",
    "\n",
    "% boundary type indicators (1=Dirichlet, 0=Neumann no-flow)\n",
    "ltop = logical(zeros(1,nx));         % top\n",
    "lbottom = logical(zeros(1,nx));      % bottom\n",
    "lleft = logical([ones(6,1) zeros(6,1)]);       % left\n",
    "lright = logical([zeros(6,1) ones(6,1)]);      % right\n",
    "\n",
    "% boundary values (Dirichlet only)\n",
    "btop = ones(1,nx);                  % top\n",
    "bbottom = zeros(1,nx);              % bottom\n",
    "bleft = ones(ny,1);                 % left\n",
    "bright = zeros(ny,1);               % right\n",
    "\n",
    "q = zeros(nx,ny);                   % right hand side (source term)\n",
    "D = 1.e-5;                          % diffusivity\n",
    "lambda = 2.e-7;                     % decay constant \n",
    "\n",
    "N = nx*ny;\n",
    "d = [-nx,-1,0,1,nx];\n",
    "B = [ones(N,2) -(4+lambda/D)*ones(N,1) ones(N,2)];\n",
    "q = reshape(q,N,1);\n",
    "b = -h*h*q.*ones(N,1)/D;\n",
    "for i = 1:nx\n",
    "    if ltop(i)\n",
    "        b(i) = b(i)-btop(i);\n",
    "    else\n",
    "        B(i,3) = -3;\n",
    "        %B(i-1,1) = 0;\n",
    "    end\n",
    "    if lbottom(i)\n",
    "        b(N-nx+i) = b(N-nx+i)-bbottom(i);\n",
    "    else\n",
    "        B(N-nx+i,3) = -3;\n",
    "        % B(N-nx+i,5) = 0;\n",
    "    end\n",
    "end\n",
    "for i = 1:ny\n",
    "    B(i*nx,2) = 0; \n",
    "    if i<ny B(i*nx+1,4) = 0; end    \n",
    "    if lleft(i)\n",
    "        b((i-1)*nx+1) = b((i-1)*nx+1)-bleft(i);\n",
    "    else\n",
    "        B((i-1)*nx+1,3) = B((i-1)*nx+1,3)+1;\n",
    "    end\n",
    "    if lright(i)\n",
    "        b(i*nx) = b(i*nx)-bright(i);\n",
    "    else\n",
    "        B(i*nx,3) = B(i*nx,3)+1;\n",
    "    end\n",
    "end\n",
    "\n",
    "A = spdiags(B,d,N,N);\n",
    "\n",
    "% processing: solution\n",
    "U = A\\b;\n",
    "U = reshape(U,nx,ny);\n",
    "\n",
    "% check & visualize\n",
    "4*del2(U) \n",
    "surf (U)\n",
    "\n"
   ]
  },
  {
   "cell_type": "markdown",
   "metadata": {},
   "source": [
    "## References"
   ]
  },
  {
   "cell_type": "code",
   "execution_count": null,
   "metadata": {
    "collapsed": true
   },
   "outputs": [],
   "source": []
  }
 ],
 "metadata": {
  "anaconda-cloud": {},
  "kernelspec": {
   "display_name": "Python [default]",
   "language": "python",
   "name": "python3"
  },
  "language_info": {
   "codemirror_mode": {
    "name": "ipython",
    "version": 3
   },
   "file_extension": ".py",
   "mimetype": "text/x-python",
   "name": "python",
   "nbconvert_exporter": "python",
   "pygments_lexer": "ipython3",
   "version": "3.5.2"
  }
 },
 "nbformat": 4,
 "nbformat_minor": 1
}
