{
 "cells": [
  {
   "cell_type": "markdown",
   "metadata": {},
   "source": [
    "# 11 Flow Modeling"
   ]
  },
  {
   "cell_type": "code",
   "execution_count": 2,
   "metadata": {
    "collapsed": false
   },
   "outputs": [
    {
     "name": "stderr",
     "output_type": "stream",
     "text": [
      "C:\\Anaconda3\\lib\\site-packages\\IPython\\nbformat.py:13: ShimWarning: The `IPython.nbformat` package has been deprecated. You should import from nbformat instead.\n",
      "  \"You should import from nbformat instead.\", ShimWarning)\n"
     ]
    },
    {
     "name": "stdout",
     "output_type": "stream",
     "text": [
      "Starting MATLAB on ZMQ socket tcp://127.0.0.1:22629\n",
      "Send 'exit' command to kill the server\n",
      ".........MATLAB started and connected!\n"
     ]
    }
   ],
   "source": [
    "%load_ext pymatbridge"
   ]
  },
  {
   "cell_type": "markdown",
   "metadata": {},
   "source": [
    "## 11.1 The Navier-Stokes Equations for Free Fluids"
   ]
  },
  {
   "cell_type": "code",
   "execution_count": 3,
   "metadata": {
    "collapsed": false
   },
   "outputs": [
    {
     "data": {
      "image/png": "[encoded data removed]"
     },
     "metadata": {},
     "output_type": "display_data"
    }
   ],
   "source": [
    "%%matlab\n",
    "%load ch11/viscosity_dyn.m\n",
    "% Viscosity Intercomparison  \n",
    "%   Dynamic viscosity of water in dependency of temperature   \n",
    "%   \n",
    "%   Ref: \n",
    "\n",
    "%   $Ekkehard Holzbecher  $Date: 2006/03/10 $\n",
    "\n",
    "T_1 = [0:1:16];\n",
    "mu_1 = 1.8e-3-06.55e-5*T_1+1.44e-6*T_1.*T_1;                % Hagen 1839 acc. to Prandtl/Tientjes\n",
    "T_2 = [0:1:75];                                               \n",
    "mu_2 = 0.001779./(1+0.03368*T_2+0.00022099*T_2.*T_2);       % Poiseuille 1840 acc. to Lamb \n",
    "T_3 = [100:1:300];\n",
    "mu_3 = 241.4e-7*10.^(247.8./(T_3+132.15));                  % JSME 1968 \n",
    "T_4 = [5:1:25];\n",
    "mu_4 = 1.31*1.e-3./(0.7 + 0.03*T_4);                        % Gavich 1985 \n",
    "T_5 = [0:1:100];\n",
    "mu_5 = 0.001*(1.+0.636*(T_5-20)/41).^(-1/0.636);            % Pawlowski 1991 \n",
    "T_6 = [15:1:35];\n",
    "mu_6 = 1.98404e-6*exp(1825.85./(273+T_6));                  % Lin e.a. 2003  \n",
    "\n",
    "plot (T_1,mu_1,'r',T_2,mu_2,'g',T_4,mu_4,'m',T_5,mu_5,'c',T_6,mu_6,'b')\n",
    "legend ('Hagen','Poiseuille','Gavich e.a.','Pawlowski','Lin e.a.');\n",
    "xlabel ('Temperature [°C]'); ylabel ('dynamic viscosity [Pa s]');\n",
    "\n",
    "grid;"
   ]
  },
  {
   "cell_type": "code",
   "execution_count": null,
   "metadata": {
    "collapsed": true
   },
   "outputs": [],
   "source": []
  },
  {
   "cell_type": "markdown",
   "metadata": {},
   "source": [
    "## 11.2 The Euler Equations and the Bernoulli Theorem"
   ]
  },
  {
   "cell_type": "code",
   "execution_count": null,
   "metadata": {
    "collapsed": false,
    "scrolled": true
   },
   "outputs": [],
   "source": [
    "# load ch11/OpenChannel.m\n",
    "function OpenChannel\n",
    "% Open Channel Flow - energy height and water depth \n",
    "%    using MATLAB ode                   \n",
    "%\n",
    "%   $Ekkehard Holzbecher  $Date: 2006/04/27 $\n",
    "%--------------------------------------------------------------------------\n",
    "g = 10;       % acceleration due to gravity [m*m/s]\n",
    "beta = 0.3;   % angle of ground inclination \n",
    "q = 1;        % discharge per unit width [m*m/s]\n",
    "H = 2;        % energy height [m]\n",
    "\n",
    "h = linspace (H/12,H,100);\n",
    "plot (h,(h*cos(beta)+(q*q/2/g)*ones(size(h,1))./h./h),h,h*cos(beta));\n",
    "legend ('Possible states','Asympotic line');\n",
    "title ('constant discharge');\n",
    "xlabel ('water level above ground');\n",
    "ylabel ('energy height'); "
   ]
  },
  {
   "cell_type": "markdown",
   "metadata": {},
   "source": [
    "## 11.3 Darcy's Law for Flow in Porous Media"
   ]
  },
  {
   "cell_type": "markdown",
   "metadata": {},
   "source": [
    "## 11.4 Flow in Unsaturated Porous Media"
   ]
  },
  {
   "cell_type": "code",
   "execution_count": null,
   "metadata": {
    "collapsed": false,
    "scrolled": true
   },
   "outputs": [],
   "source": [
    "# %load ch11/retention.m\n",
    "function retention\n",
    "% Retention curve examples     \n",
    "%    using MATLAB                    \n",
    "%\n",
    "%   $Ekkehard Holzbecher  $Date: 2006/07/13 $\n",
    "%\n",
    "% Soil data from Hornberger and Wiberg, 2005\n",
    "%--------------------------------------------------------------------------\n",
    "qr = [0.153 0.19 0.131 0.218];\n",
    "f = [0.25 0.469 0.396 0.52];\n",
    "n = [10.4 7.09 2.06 2.03];\n",
    "a = [0.0079 0.005 0.00423 0.0115];\n",
    "p = linspace (0,200,50); \n",
    "\n",
    "figure\n",
    "for i = 1:4\n",
    "    m=1-(1/n(i));\n",
    "    q = qr(i)+((f(i)-qr(i))./(((p.*a(i)).^n(i))+1).^m);\n",
    "    plot (p,q);\n",
    "    hold on;\n",
    "end\n",
    "legend ('Hygiene sandstone','Touchet Silt Loam','Silt Loam','Guelph Loam');\n",
    "xlabel ('Suction head [cm]');\n",
    "ylabel ('Volumetric water content [-]');\n",
    "\n",
    "\n",
    "\n",
    "\n",
    "\n"
   ]
  },
  {
   "cell_type": "code",
   "execution_count": null,
   "metadata": {
    "collapsed": true
   },
   "outputs": [],
   "source": [
    "# %load ch11/richards.m\n",
    "function richards\n",
    "% Solution of the Richards equation     \n",
    "%    using MATLAB pdepe                   \n",
    "%\n",
    "%   $Ekkehard Holzbecher  $Date: 2006/07/13 $\n",
    "%\n",
    "% Soil data for Guelph Loam (Hornberger and Wiberg, 2005)\n",
    "% m-file based partially on a first version by Janek Greskowiak \n",
    "%--------------------------------------------------------------------------\n",
    "L = 200;                  % length [L]\n",
    "s1 = 0.5;                 % infiltration velocity [L/T]\n",
    "s2 = 0;                   % bottom suction head [L]\n",
    "T = 4;                    % maximum time [T]\n",
    "qr = 0.218;               % residual water content \n",
    "f = 0.52;                 % porosity\n",
    "a = 0.0115;               % van Genuchten parameter [1/L]\n",
    "n = 2.03;                 % van Genuchten parameter\n",
    "ks = 31.6;                % saturated conductivity [L/T]\n",
    "\n",
    "x = linspace(0,L,100);\n",
    "t = linspace(0,T,25);\n",
    "\n",
    "options=odeset('RelTol',1e-4,'AbsTol',1e-4,'NormControl','off','InitialStep',1e-7);\n",
    "u = pdepe(0,@unsatpde,@unsatic,@unsatbc,x,t,options,s1,s2,qr,f,a,n,ks);\n",
    "\n",
    "figure; \n",
    "title('Richards Equation Numerical Solution, computed with 100 mesh points');\n",
    "\n",
    "subplot (1,3,1);\n",
    "plot (x,u(1:length(t),:)); \n",
    "xlabel('Depth [L]');\n",
    "ylabel('Pressure Head [L]');\n",
    "\n",
    "subplot (1,3,2);\n",
    "plot (x,u(1:length(t),:)-(x'*ones(1,length(t)))');\n",
    "xlabel('Depth [L]');\n",
    "ylabel('Hydraulic Head [L]');\n",
    "\n",
    "for j=1:length(t)\n",
    "    for i=1:length(x)\n",
    "        [q(j,i),k(j,i),c(j,i)]=sedprop(u(j,i),qr,f,a,n,ks); \n",
    "    end \n",
    "end\n",
    " \n",
    "subplot (1,3,3);\n",
    "plot (x,q(1:length(t),:)*100)\n",
    "xlabel('Depth [L]');\n",
    "ylabel('Water Content [%]');\n",
    "\n",
    "% -------------------------------------------------------------------------\n",
    "function [c,f,s] = unsatpde(x,t,u,DuDx,s1,s2,qr,f,a,n,ks)\n",
    "[q,k,c] = sedprop(u,qr,f,a,n,ks);\n",
    "f = k.*DuDx-k;\n",
    "s = 0;\n",
    "% -------------------------------------------------------------------------\n",
    "function u0 = unsatic(x,s1,s2,qr,f,a,n,ks)\n",
    "u0 = -200+x; \n",
    "if x < 10 u0 = -0.5; end\n",
    "\n",
    "% -------------------------------------------------------------------------\n",
    "function [pl,ql,pr,qr] = unsatbc(xl,ul,xr,ur,t,s1,s2,qr,f,a,n,ks)\n",
    "pl = s1; \n",
    "ql = 1; \n",
    "pr = ur(1)-s2;\n",
    "qr = 0;\n",
    "\n",
    "%------------------- soil hydraulic properties ----------------------------\n",
    "function [q,k,c] = sedprop(u,qr,f,a,n,ks)\n",
    "m = 1-1/n;\n",
    "if u >= 0 \n",
    "    c=1e-20;\n",
    "    k=ks;\n",
    "    q=f;\n",
    "else\n",
    "    q=qr+(f-qr)*(1+(-a*u)^n)^-m;\n",
    "    c=((f-qr)*n*m*a*(-a*u)^(n-1))/((1+(-a*u)^n)^(m+1))+1.e-20;\n",
    "    k=ks*((q-qr)/(f-qr))^0.5*(1-(1-((q-qr)/(f-qr))^(1/m))^m)^2;\n",
    "end\n",
    "\n",
    "\n",
    "\n",
    "  \n"
   ]
  },
  {
   "cell_type": "markdown",
   "metadata": {},
   "source": [
    "## References"
   ]
  },
  {
   "cell_type": "code",
   "execution_count": null,
   "metadata": {
    "collapsed": true
   },
   "outputs": [],
   "source": []
  }
 ],
 "metadata": {
  "anaconda-cloud": {},
  "kernelspec": {
   "display_name": "Python [default]",
   "language": "python",
   "name": "python3"
  },
  "language_info": {
   "codemirror_mode": {
    "name": "ipython",
    "version": 3
   },
   "file_extension": ".py",
   "mimetype": "text/x-python",
   "name": "python",
   "nbconvert_exporter": "python",
   "pygments_lexer": "ipython3",
   "version": "3.5.2"
  }
 },
 "nbformat": 4,
 "nbformat_minor": 1
}
