{
 "cells": [
  {
   "cell_type": "markdown",
   "metadata": {},
   "source": [
    "# 16 2D and 3D Transport Solutions (Gaussian Puffs and Plumes)"
   ]
  },
  {
   "cell_type": "code",
   "execution_count": 1,
   "metadata": {
    "collapsed": false
   },
   "outputs": [
    {
     "name": "stderr",
     "output_type": "stream",
     "text": [
      "C:\\Anaconda3\\lib\\site-packages\\IPython\\nbformat.py:13: ShimWarning: The `IPython.nbformat` package has been deprecated. You should import from nbformat instead.\n",
      "  \"You should import from nbformat instead.\", ShimWarning)\n"
     ]
    },
    {
     "name": "stdout",
     "output_type": "stream",
     "text": [
      "Starting MATLAB on ZMQ socket tcp://127.0.0.1:23718\n",
      "Send 'exit' command to kill the server\n",
      "......MATLAB started and connected!\n"
     ]
    }
   ],
   "source": [
    "%load_ext pymatbridge"
   ]
  },
  {
   "cell_type": "markdown",
   "metadata": {},
   "source": [
    "## 16.1 Introduction"
   ]
  },
  {
   "cell_type": "code",
   "execution_count": 6,
   "metadata": {
    "collapsed": false,
    "scrolled": true
   },
   "outputs": [
    {
     "data": {
      "image/png": "[encoded data removed]"
     },
     "metadata": {},
     "output_type": "display_data"
    }
   ],
   "source": [
    "%%matlab\n",
    "Dx = 0.000625;                    % diffusivity\n",
    "v = 0.1;                          % velocity\n",
    "M = 1;                            % mass\n",
    "xmin = -0.05; xmax = 2.15;        % x-axisinterval\n",
    "t = [1:4:20];                     % time\n",
    "%-------------------------------execution--------------------\n",
    "x = linspace(xmin,xmax,100);                        \n",
    "c = [];            \n",
    "\n",
    "for i = 1:size(t,2)\n",
    "  xx = x - v*t(i);                        \n",
    "  c = [c; (M/sqrt(4*pi*Dx*t(i))) * ones(1,size(x, 1)) .* exp(-(xx.*xx)/(4*Dx*t(i)))];                        \n",
    "end\n",
    "\n",
    "%---------------------------------output---------------------\n",
    "plot(c'); \n",
    "hold on; \n",
    "xlabel('space');                      \n",
    "ylabel('concentration'); \n",
    "title('1D Gaussian puff');                        "
   ]
  },
  {
   "cell_type": "code",
   "execution_count": null,
   "metadata": {
    "collapsed": true
   },
   "outputs": [],
   "source": [
    "# %load ch16/GaussianPuff.m\n",
    "function GaussianPuff\n",
    "% Gaussian puff model \n",
    "%    using MATLAB analytical solutions                   \n",
    "%\n",
    "%   $Ekkehard Holzbecher  $Date: 2006/08/21 $\n",
    "%-----------------------------------------------------------------------\n",
    "d = 3;                      % dimensionality\n",
    "Dx = 0.004; Dy = 0.001; Dz = 0.001;  % diffusivities\n",
    "v = 1;                      % velocity\n",
    "M = 1;                      % mass\n",
    "xmin = 0.85; xmax = 1.15;   % x-axis interval\n",
    "ymin = -0.1; ymax = 0.1;    % y-axis interval (used only for d>1)\n",
    "zmin = -0.1; zmax = 0.1;    % z-axis interval (used only for d>2)\n",
    "t = [1:4:20];               % time\n",
    "gplot = 1;                  % plot option (=1 yes; =0 no)\n",
    "gcont = 2;                  % contour plot option (=2 filled; =1 yes; =0 none) \n",
    "gsurf = 0;                  % surface plot option (=1 yes; =0 no) \n",
    "                            %       (only for d<3)\n",
    "%-------------------------------execution------------------------------\n",
    "switch d\n",
    "    case 1\n",
    "        x = linspace (xmin,xmax,100);\n",
    "        c = [];\n",
    "        for i = 1:size(t,2)\n",
    "            xx = x - v*t(i);\n",
    "            c = [c; (M/sqrt(4*pi*Dx*t(i)))*ones(1,size(x)).*...\n",
    "                exp(-(xx.*xx)/(4*Dx*t(i)))];\n",
    "        end\n",
    "    case 2\n",
    "        if size(t,2) > 1 t = t(1); display('first time level is considered only');\n",
    "        end\n",
    "        [x,y] = meshgrid (linspace(xmin,xmax,100),linspace(ymin,ymax,100));\n",
    "        xx = x - v*t;\n",
    "        c = (M/4/pi/t/sqrt(Dx*Dy))*ones(100).*exp(-0.25*(xx.*xx/Dx + y.*y/Dy)/t);\n",
    "    case 3\n",
    "        if size(t,2) > 1 t = t(1); display('first time level is considered only');\n",
    "        end\n",
    "        [x,y,z] = meshgrid (linspace(xmin,xmax,45),...\n",
    "            linspace(ymin,ymax,45),linspace(zmin,zmax,45));\n",
    "        xx = x -v*t;\n",
    "        c = (M/(sqrt(4*pi*t)^3)/sqrt(Dx*Dy*Dz))*ones(45,45,45)...\n",
    "            .*exp(-0.25*(xx.*xx/Dx + y.*y/Dy + z.*z/Dz)/t);\n",
    "end\n",
    "\n",
    "%---------------------------------output-------------------------------\n",
    "if gplot\n",
    "    switch d\n",
    "        case 1\n",
    "            plot (c'); hold on; xlabel ('space');\n",
    "            ylabel ('concentration'); title ('1D Gaussian puff');\n",
    "        case 2\n",
    "            for i = 10:10:100\n",
    "                plot (c(:,i)); hold on;\n",
    "            end\n",
    "            xlabel ('x'); ylabel ('concentration'); \n",
    "            title ('2D Gaussian puff along slices y=const)');  \n",
    "        case 3\n",
    "            for i = 5:5:45\n",
    "                plot (c(:,i,23)); hold on;\n",
    "            end\n",
    "            xlabel ('x'); ylabel ('concentration'); \n",
    "            title ('3D Gaussian puff along line x=0');\n",
    "    end\n",
    "    colorbar\n",
    "end\n",
    "\n",
    "switch gcont\n",
    "    case 1               % contours\n",
    "        figure;\n",
    "        switch d\n",
    "            case 1\n",
    "                contour (x,t,c,30);    \n",
    "                grid on; xlabel ('space'); ylabel ('time');\n",
    "            case 2\n",
    "                contour (x,y,c,30);  \n",
    "                xlabel ('x'); ylabel ('y'); \n",
    "            case 3\n",
    "        end\n",
    "        title ('concentration'); \n",
    "    case 2               % filled contours\n",
    "        figure;\n",
    "        switch d\n",
    "            case 1\n",
    "                contourf(x,t,c,30);   \n",
    "                colorbar; xlabel ('space'); ylabel ('time');\n",
    "            case 2\n",
    "                contourf (x,y,c,30); \n",
    "                colorbar; xlabel ('x'); ylabel ('y'); \n",
    "            case 3\n",
    "                xslice = [xmin 0.5*(xmin+xmax) xmax];\n",
    "                yslice = [ymax];\n",
    "                zslice = [zmin 0.5*(zmin+zmax) zmax];\n",
    "                slice (x,y,z,c,xslice,yslice,zslice); \n",
    "                xlabel ('x'); ylabel ('y'); zlabel ('z');\n",
    "        end\n",
    "        title ('concentration'); \n",
    "end    \n",
    "if gsurf\n",
    "    figure; \n",
    "    switch d\n",
    "            case 1\n",
    "                surf(x,t,c);   \n",
    "                colorbar; xlabel ('space'); ylabel ('time');\n",
    "            case 2\n",
    "                surf (x,y,c); \n",
    "                colorbar; xlabel ('x'); ylabel ('y'); \n",
    "            case 3\n",
    "    end\n",
    "    title ('concentration');\n",
    "end\n",
    "\n"
   ]
  },
  {
   "cell_type": "markdown",
   "metadata": {},
   "source": [
    "## 16.2 2D Instantaneous Line Source"
   ]
  },
  {
   "cell_type": "code",
   "execution_count": null,
   "metadata": {
    "collapsed": true
   },
   "outputs": [],
   "source": []
  },
  {
   "cell_type": "markdown",
   "metadata": {},
   "source": [
    "## 16.3 2D Constant Line Source"
   ]
  },
  {
   "cell_type": "code",
   "execution_count": null,
   "metadata": {
    "collapsed": true
   },
   "outputs": [],
   "source": []
  },
  {
   "cell_type": "markdown",
   "metadata": {},
   "source": [
    "## 16.4 3D Instanteneous Source"
   ]
  },
  {
   "cell_type": "code",
   "execution_count": null,
   "metadata": {
    "collapsed": true
   },
   "outputs": [],
   "source": []
  },
  {
   "cell_type": "markdown",
   "metadata": {},
   "source": [
    "## 16.5 3D Constant Source"
   ]
  },
  {
   "cell_type": "code",
   "execution_count": null,
   "metadata": {
    "collapsed": true
   },
   "outputs": [],
   "source": [
    "# %load ch16/GaussianPlume.m\n",
    "function GaussianPlume\n",
    "% Gaussian plume model \n",
    "%    using MATLAB analytical solutions                   \n",
    "%\n",
    "%   $Ekkehard Holzbecher  $Date: 2006/08/21$\n",
    "%-----------------------------------------------------------------------\n",
    "Dy = 0.2; Dz = 1;           % diffusivities\n",
    "v = 0.5;                    % velocity\n",
    "lambda = 0;                 % decay rate\n",
    "Q = 1;                      % emission rate(s)\n",
    "xstack = 0; ystack = 50;    % stack location(s)\n",
    "xmin = 10; xmax = 1000;     % x-axis interval\n",
    "ymin = 0; ymax = 100;       % y-axis interval (used only for d>1)\n",
    "H = 50;                     % effective stack height(s) \n",
    "z = 0;                      % height of observation (=0 for ground surface)\n",
    "gplot = 1;                  % plot option (=1 yes; =0 no)\n",
    "gcont = 2;                  % contour plot option (=2 filled; =1 yes; =0 none) \n",
    "\n",
    "%----------------------------------execution-------------------------------\n",
    "[x,y] = meshgrid (linspace(xmin,xmax,100),linspace(ymin,ymax,100));\n",
    "c = zeros (size(x)); e = ones(size(x));\n",
    "for i = 1:size(Q,2)\n",
    "    xx = x - xstack(i); yy = y - ystack(i); \n",
    "    c = c + Q(i)*e./(4*pi*xx*sqrt(Dy*Dz)).*exp(-v*yy.*yy./(4*Dy*xx)).*... \n",
    "    (exp(-v*(z-H(i))*(z-H(i))*e./(4*Dz*xx))+exp(-v*(z+H(i))*(z+H(i))*e./(4*Dz*xx)))...\n",
    "    .*exp(-lambda*xx/v);\n",
    "end\n",
    "\n",
    "%----------------------------------output----------------------------------\n",
    "if gplot\n",
    "    for i = 10:10:100\n",
    "\t    plot (c(:,i)); hold on;\n",
    "    end\n",
    "end\n",
    "if gcont\n",
    "    figure;\n",
    "    if gcont > 1\n",
    "        contourf (x,y,c); colorbar;\n",
    "    else\n",
    "        contour (x,y,c); \n",
    "    end\n",
    "end\n"
   ]
  },
  {
   "cell_type": "markdown",
   "metadata": {},
   "source": [
    "## References"
   ]
  },
  {
   "cell_type": "code",
   "execution_count": null,
   "metadata": {
    "collapsed": true
   },
   "outputs": [],
   "source": []
  }
 ],
 "metadata": {
  "anaconda-cloud": {},
  "kernelspec": {
   "display_name": "Python [default]",
   "language": "python",
   "name": "python3"
  },
  "language_info": {
   "codemirror_mode": {
    "name": "ipython",
    "version": 3
   },
   "file_extension": ".py",
   "mimetype": "text/x-python",
   "name": "python",
   "nbconvert_exporter": "python",
   "pygments_lexer": "ipython3",
   "version": "3.5.2"
  }
 },
 "nbformat": 4,
 "nbformat_minor": 1
}
