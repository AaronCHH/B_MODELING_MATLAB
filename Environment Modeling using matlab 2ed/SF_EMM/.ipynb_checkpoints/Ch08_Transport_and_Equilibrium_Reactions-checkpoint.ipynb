{
 "cells": [
  {
   "cell_type": "markdown",
   "metadata": {},
   "source": [
    "# 8 Tran sport and Equilibrium Reactions\n",
    "## 8.1 Introductory Example"
   ]
  },
  {
   "cell_type": "code",
   "execution_count": null,
   "metadata": {
    "collapsed": true
   },
   "outputs": [],
   "source": [
    "# %load ch08/newtondemo.m\n",
    "function newtondemo\n",
    "% Demonstration of Newton method for single variable functions     \n",
    "%    using MATLAB                    \n",
    "%\n",
    "%   $Ekkehard Holzbecher  $Date: 2006/05/03 $\n",
    "%--------------------------------------------------------------------------\n",
    "toll = 1.e-7;      % tolerance\n",
    "nmax = 20;         % max. no. of iterations \n",
    "x = 2.5;           % initial guess\n",
    "\n",
    "err = toll+1; nit = 0;\n",
    "while (nit < nmax && err > toll),\n",
    "   nit = nit+1;\n",
    "   F = f(x);\n",
    "   DF = fderiv (x); \n",
    "   dx = -F/DF;\n",
    "   err = abs(dx);\n",
    "   x = x+dx;\n",
    "end\n",
    "display (['Zero obtained after ' num2str(nit) ' iterations:']);\n",
    "x\n",
    "\n",
    "function F = f(x)\n",
    "F = cos(x);\n",
    "\n",
    "function DF = fderiv(x)\n",
    "DF = -sin(x);\n"
   ]
  },
  {
   "cell_type": "markdown",
   "metadata": {},
   "source": [
    "## 8.2 The Law of Mass Action for Equilibrium Reactions"
   ]
  },
  {
   "cell_type": "markdown",
   "metadata": {},
   "source": [
    "## 8.3 Speciation Calculations"
   ]
  },
  {
   "cell_type": "code",
   "execution_count": null,
   "metadata": {
    "collapsed": true
   },
   "outputs": [],
   "source": [
    "# %load ch08/Speciation.m\n",
    "function Speciation\n",
    "% Speciation       \n",
    "%    using MATLAB                     \n",
    "%\n",
    "%   $Ekkehard Holzbecher  $Date: 2006/05/03 $\n",
    "%--------------------------------------------------------------------------\n",
    "toll = 1.e-15;                    % tolerance\n",
    "nmax = 50;                        % max. no. of iterations \n",
    "Se = [-1 -1 1];                   % reaction matrix\n",
    "logc = [1.e-10; 1.e-10; 0];       % initial guess (log)\n",
    "logK = [-0.93];                   % equilibrium constants (log)\n",
    "logu = [-0.301; 0];               % total concentrations (log)\n",
    "    \n",
    "ln10 = 2.3026;\n",
    "n=size(Se,1); m=size(Se,2);\n",
    "S1 = Se(:,1:m-n); \n",
    "S2 = Se(:,m-n+1:m); \n",
    "S1star = -S2\\S1; \n",
    "U = [eye(m-n),S1star'];\n",
    "\n",
    "c=exp(ln10*logc);\n",
    "u(1:m-n,1) = exp(ln10*logu);    \n",
    "err = toll+1; nit = 0;\n",
    "while (nit < nmax && err > toll),\n",
    "    nit = nit+1;\n",
    "    F = [U*c-u; Se*logc-logK];\n",
    "    DF = [U; Se*diag((1/ln10)./c)]; \n",
    "    dc = -DF\\F; \n",
    "    cn = max(c+dc,0.005*abs(c));\n",
    "    err = max(abs(cn-c));\n",
    "    c = cn;\n",
    "end\n",
    "display (['Species concentrations obtained after ' num2str(nit) ' iterations:']);\n",
    "c\n",
    "exp(ln10*logK)-c(3)/c(1)/c(2)\n"
   ]
  },
  {
   "cell_type": "markdown",
   "metadata": {},
   "source": [
    "## 8.4 Sorption and the Law of Mass Action"
   ]
  },
  {
   "cell_type": "markdown",
   "metadata": {},
   "source": [
    "## 8.5 Transport and Speciation"
   ]
  },
  {
   "cell_type": "code",
   "execution_count": null,
   "metadata": {
    "collapsed": true
   },
   "outputs": [],
   "source": [
    "# %load ch08/source.m\n",
    "function[q] = source(t,x,y,u,u2,u3)\n",
    "  U = [100 - 11 - 10; 0100111; 0010001]; \n",
    "  Se = [1001000; 1 - 100010; 011000 - 1; 2000 - 110]; \n",
    "  logK = [ -14;  -10.329;  -1.106;  -16.7]; \n",
    "  Skin = [0010010]; \n",
    "  c = [3.1913e-6; 3.7928e-6; 3.9992e-5; 3.1329e-9; 9.9985e-11; 9.9985e-11; 9.9985e-11]; \n",
    "  pkin = 9.939e-4; \n",
    "  toll = 1e-10; nmax = 100; \n",
    "  for i = 1:max(size(u))\n",
    "    err = toll + 1; nit = 0; \n",
    "\n",
    "    while(nit<nmax&err>toll*max(abs(c)))\n",
    "      nit = nit + 1; \n",
    "      F = [U*c - [u(i); u2(i); u3(i)]; Se*log10(c) - logK]; \n",
    "      DF = [U; Se*diag((1/2.3026)./c)]; \n",
    "      dc =  - DF\\F; \n",
    "      cn = max(c + dc,0.005*abs(c)); \n",
    "      err = max(abs(cn - c)); \n",
    "      c = cn; \n",
    "      logc = log10(c); \n",
    "    end\n",
    "\n",
    "    sp = exp(2.3026*(Skin*logc + 8.48)); \n",
    "    q(i) = pkin*(ones(size(sp)) - sp); \n",
    "\n",
    "    if isnan(q(i))\n",
    "      q(i) = 0; \n",
    "    end  \n",
    "end"
   ]
  },
  {
   "cell_type": "markdown",
   "metadata": {},
   "source": [
    "## References"
   ]
  },
  {
   "cell_type": "markdown",
   "metadata": {},
   "source": [
    "## Contents"
   ]
  },
  {
   "cell_type": "code",
   "execution_count": null,
   "metadata": {
    "collapsed": true
   },
   "outputs": [],
   "source": []
  },
  {
   "cell_type": "code",
   "execution_count": null,
   "metadata": {
    "collapsed": true
   },
   "outputs": [],
   "source": []
  }
 ],
 "metadata": {
  "anaconda-cloud": {},
  "kernelspec": {
   "display_name": "Python [default]",
   "language": "python",
   "name": "python3"
  },
  "language_info": {
   "codemirror_mode": {
    "name": "ipython",
    "version": 3
   },
   "file_extension": ".py",
   "mimetype": "text/x-python",
   "name": "python",
   "nbconvert_exporter": "python",
   "pygments_lexer": "ipython3",
   "version": "3.5.2"
  }
 },
 "nbformat": 4,
 "nbformat_minor": 1
}
