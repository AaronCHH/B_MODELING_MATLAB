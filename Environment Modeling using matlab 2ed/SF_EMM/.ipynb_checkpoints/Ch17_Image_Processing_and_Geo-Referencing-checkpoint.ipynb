{
 "cells": [
  {
   "cell_type": "markdown",
   "metadata": {},
   "source": [
    "# 17 Image Proces sing and Geo-Referencing"
   ]
  },
  {
   "cell_type": "code",
   "execution_count": 1,
   "metadata": {
    "collapsed": false
   },
   "outputs": [
    {
     "name": "stderr",
     "output_type": "stream",
     "text": [
      "C:\\Anaconda3\\lib\\site-packages\\IPython\\nbformat.py:13: ShimWarning: The `IPython.nbformat` package has been deprecated. You should import from nbformat instead.\n",
      "  \"You should import from nbformat instead.\", ShimWarning)\n"
     ]
    },
    {
     "name": "stdout",
     "output_type": "stream",
     "text": [
      "Starting MATLAB on ZMQ socket tcp://127.0.0.1:23873\n",
      "Send 'exit' command to kill the server\n",
      ".....MATLAB started and connected!\n"
     ]
    }
   ],
   "source": [
    " %load_ext pymatbridge"
   ]
  },
  {
   "cell_type": "markdown",
   "metadata": {},
   "source": [
    "## 17.1 Introduction"
   ]
  },
  {
   "cell_type": "code",
   "execution_count": null,
   "metadata": {
    "collapsed": true
   },
   "outputs": [],
   "source": []
  },
  {
   "cell_type": "markdown",
   "metadata": {},
   "source": [
    "## 17.2 Reading and Display"
   ]
  },
  {
   "cell_type": "code",
   "execution_count": null,
   "metadata": {
    "collapsed": true
   },
   "outputs": [],
   "source": [
    "# %load ch17/georef.m\n",
    "function [xx0,yy0,xx1,yy1,xline,yline,xloc,yloc] = georef ()\n",
    "% Map input and georeferencing     \n",
    "%    using MATLAB                    \n",
    "%\n",
    "%   $Ekkehard Holzbecher  $Date: 2006/08/25 $\n",
    "%------------------------- Input ------------------------------------------\n",
    "[infile,path] = uigetfile('*.jpg','Select graphics file...');\n",
    "infilepath = strcat(path,infile);\n",
    "lx = 1000; ly = 1000;\n",
    "figure;   \n",
    "[X,~] = imread(infilepath);\n",
    "imagesc(X); \n",
    "axis off; hold on;\n",
    "ax1 = gca; \n",
    "ax1 = axes ('Position',get(ax1,'Position'),...\n",
    "    'Color','none','XLim',[0 lx],'Ylim',[0 ly],'XTick',[],'YTick',[]);\n",
    "    \n",
    "%------------------------ Geo-reference -----------------------------------\n",
    "gca; hold on;\n",
    "\n",
    "h0 = text (0,-ly*0.05,'Set referencepoint 1','BackgroundColor','y',...\n",
    "    'EdgeColor','red','LineWidth',2);\n",
    "%h0 = msgbox ('Set referencepoint 1');\n",
    "[x0,y0,~] = ginput(1);\n",
    "h1 = plot (x0,y0,'k+');\n",
    "coords = inputdlg({'horizontal','vertical'},'Field position',1,{'0','0'});\n",
    "xx0 = str2double(coords(1)); yy0 = str2double(coords(2)); \n",
    "delete (h0);\n",
    "\n",
    "h0 = text (0,-ly*0.05,'Set referencepoint 2','BackgroundColor','y',...\n",
    "    'EdgeColor','red','LineWidth',2);\n",
    "[x1,y1,~] = ginput(1);\n",
    "h2 = plot (x1,y1,'k+');\n",
    "coords = inputdlg({'horizontal','vertical'},'Field position',1,{'4000','3000'});\n",
    "xx1 = str2double(coords(1)); yy1 = str2double(coords(2));\n",
    "delete (h0,h1,h2);\n",
    "\n",
    "mx = (xx1-xx0)/(x1-x0); xmin = xx0-mx*x0; xmax = xx1+mx*(lx-x1);\n",
    "my = (yy1-yy0)/(y1-y0); ymin = yy0-my*y0; ymax = yy1+my*(ly-y1);\n",
    "axes ('Position',get(ax1,'Position'),...\n",
    "    'Color','none','XLim',[xmin xmax],'Ylim',[ymin ymax]);\n",
    "gca; hold on;\n",
    "% --------------------------- Set Line ------------------------------------\n",
    "\n",
    "h0 = text (xmin,ymin-0.05*(ymax-ymin),'Set line: left mouse button: set; right: last value',...\n",
    "    'BackgroundColor','y','EdgeColor','red','LineWidth',2);\n",
    "but = 1; count = 0;\n",
    "while but == 1\n",
    "    [xi,yi,but] = ginput(1);\n",
    "    plot (xi,yi,'rx');\n",
    "    count = count+1;\n",
    "    xline(count) = xi; yline(count) = yi; % only if position in model region \n",
    "end\n",
    "line (xline,yline,'Color','r');\n",
    "delete (h0);\n",
    "% --------------------------- Set Locations--------------------------------\n",
    "\n",
    "h0 = text (xmin,ymin-0.05*(ymax-ymin),'Set locations: left mouse button: set; right: last value',...\n",
    "    'BackgroundColor','y','EdgeColor','red','LineWidth',2);\n",
    "gca; hold on;\n",
    "but = 1; count = 0;\n",
    "while but == 1\n",
    "    [xj,yj,but] = ginput(1);\n",
    "    plot (xj,yj,'bo');\n",
    "    count = count+1;\n",
    "    xloc(count) = xj; yloc(count) = yj; % only if position in model region \n",
    "end\n",
    "delete (h0)\n",
    "% ------------------------------- Output ----------------------------------\n",
    "xx0\n",
    "xx1\n",
    "yy0\n",
    "yy1"
   ]
  },
  {
   "cell_type": "markdown",
   "metadata": {},
   "source": [
    "## 17.3 Geo-Referencing"
   ]
  },
  {
   "cell_type": "code",
   "execution_count": null,
   "metadata": {
    "collapsed": true
   },
   "outputs": [],
   "source": []
  },
  {
   "cell_type": "markdown",
   "metadata": {},
   "source": [
    "## 17.4 Digitizing"
   ]
  },
  {
   "cell_type": "code",
   "execution_count": null,
   "metadata": {
    "collapsed": true
   },
   "outputs": [],
   "source": []
  },
  {
   "cell_type": "markdown",
   "metadata": {},
   "source": [
    "## 17.5 MATLABR Function"
   ]
  },
  {
   "cell_type": "code",
   "execution_count": null,
   "metadata": {
    "collapsed": true
   },
   "outputs": [],
   "source": []
  },
  {
   "cell_type": "markdown",
   "metadata": {},
   "source": [
    "## References"
   ]
  },
  {
   "cell_type": "code",
   "execution_count": null,
   "metadata": {
    "collapsed": true
   },
   "outputs": [],
   "source": []
  }
 ],
 "metadata": {
  "anaconda-cloud": {},
  "kernelspec": {
   "display_name": "Python [default]",
   "language": "python",
   "name": "python3"
  },
  "language_info": {
   "codemirror_mode": {
    "name": "ipython",
    "version": 3
   },
   "file_extension": ".py",
   "mimetype": "text/x-python",
   "name": "python",
   "nbconvert_exporter": "python",
   "pygments_lexer": "ipython3",
   "version": "3.5.2"
  }
 },
 "nbformat": 4,
 "nbformat_minor": 1
}
