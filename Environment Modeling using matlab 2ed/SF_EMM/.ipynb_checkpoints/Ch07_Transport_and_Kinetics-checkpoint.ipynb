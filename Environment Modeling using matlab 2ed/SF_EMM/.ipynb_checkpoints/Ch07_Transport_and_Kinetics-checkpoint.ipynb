{
 "cells": [
  {
   "cell_type": "markdown",
   "metadata": {},
   "source": [
    "# 7 Tran sport a nd Kinetics\n",
    "## 7.1 Introduction\n",
    "## 7.2 Law of Mass Action for Kinetic Reactions\n",
    "## 7.3 Monod, Michaelis¡VMenten and Blackwell Kinetics\n",
    "## 7.4 Bacteria Populations\n",
    "## 7.5 Steady States"
   ]
  },
  {
   "cell_type": "code",
   "execution_count": null,
   "metadata": {
    "collapsed": true
   },
   "outputs": [],
   "source": [
    "# %load ch07/GdDTPA.m\n",
    "function GdDTPA\n",
    "% GdDTPA reaction advection steady state      \n",
    "%    using MATLAB fzero for solution of implicit equation                    \n",
    "%\n",
    "%   $Ekkehard Holzbecher  $Date: 2006/05/03 $\n",
    "%--------------------------------------------------------------------------\n",
    "xdata = [0.22 0.42 0.84 1.66 3.33 5 10 15 20 25 30];\n",
    "ydata = [54.7 54.3 54.2 54.0 52.8 52.4 51.0 49.9 48.7 47.6 46.2];\n",
    "cin = 55; \n",
    "aeta = 4304; \n",
    "beta = 5937;\n",
    "for i=1:size(xdata,2)\n",
    "    yfunc(i) = fzero (@GD,cin,odeset,cin,beta,aeta,xdata(i));\n",
    "end\n",
    "plot (xdata,ydata,'o',xdata,yfunc);\n",
    "xlabel ('distance [m]'); ylabel ('Gd concentration [ng/ml]');\n",
    "\n",
    "function y = GD(c,cin,beta,aeta,x)\n",
    "y = x+(c+2*beta*log(c)-beta*beta/c-cin-2*beta*log(cin)+beta*beta/cin)/aeta;"
   ]
  },
  {
   "cell_type": "markdown",
   "metadata": {},
   "source": [
    "## References"
   ]
  },
  {
   "cell_type": "code",
   "execution_count": null,
   "metadata": {
    "collapsed": true
   },
   "outputs": [],
   "source": []
  },
  {
   "cell_type": "code",
   "execution_count": null,
   "metadata": {
    "collapsed": true
   },
   "outputs": [],
   "source": []
  }
 ],
 "metadata": {
  "anaconda-cloud": {},
  "kernelspec": {
   "display_name": "Python [default]",
   "language": "python",
   "name": "python3"
  },
  "language_info": {
   "codemirror_mode": {
    "name": "ipython",
    "version": 3
   },
   "file_extension": ".py",
   "mimetype": "text/x-python",
   "name": "python",
   "nbconvert_exporter": "python",
   "pygments_lexer": "ipython3",
   "version": "3.5.2"
  }
 },
 "nbformat": 4,
 "nbformat_minor": 1
}
