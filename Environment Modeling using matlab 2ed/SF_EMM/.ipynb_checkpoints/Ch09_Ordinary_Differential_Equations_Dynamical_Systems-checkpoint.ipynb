{
 "cells": [
  {
   "cell_type": "markdown",
   "metadata": {},
   "source": [
    "# 9 Ordina ry Different ial Equatio ns: Dynami cal Systems"
   ]
  },
  {
   "cell_type": "code",
   "execution_count": 2,
   "metadata": {
    "collapsed": false,
    "scrolled": true
   },
   "outputs": [
    {
     "name": "stderr",
     "output_type": "stream",
     "text": [
      "C:\\Anaconda3\\lib\\site-packages\\IPython\\nbformat.py:13: ShimWarning: The `IPython.nbformat` package has been deprecated. You should import from nbformat instead.\n",
      "  \"You should import from nbformat instead.\", ShimWarning)\n"
     ]
    },
    {
     "name": "stdout",
     "output_type": "stream",
     "text": [
      "Starting MATLAB on ZMQ socket tcp://127.0.0.1:20076\n",
      "Send 'exit' command to kill the server\n",
      ".....MATLAB started and connected!\n"
     ]
    }
   ],
   "source": [
    "%load_ext pymatbridge"
   ]
  },
  {
   "cell_type": "code",
   "execution_count": 19,
   "metadata": {
    "collapsed": false
   },
   "outputs": [
    {
     "data": {
      "text/plain": [
       "'H:\\\\BOOKS\\\\MODELING\\\\MATLAB\\\\Environment Modeling using matlab 2ed\\\\SF_EMM\\\\ch09'"
      ]
     },
     "execution_count": 19,
     "metadata": {},
     "output_type": "execute_result"
    }
   ],
   "source": [
    "import os,sys\n",
    "cwd = os.getcwd()\n",
    "cwd"
   ]
  },
  {
   "cell_type": "code",
   "execution_count": null,
   "metadata": {
    "collapsed": false
   },
   "outputs": [],
   "source": [
    "chk = os.chdir(cwd + '\\\\ch09')"
   ]
  },
  {
   "cell_type": "markdown",
   "metadata": {},
   "source": [
    "## 9.1 Streeter-Phelps Model for River Purification"
   ]
  },
  {
   "cell_type": "code",
   "execution_count": null,
   "metadata": {
    "collapsed": true
   },
   "outputs": [],
   "source": [
    "# %load code/StreeterPhelps.m\n",
    "function StreeterPhelps\n",
    "% Streeter Phelps - simple stream purification modelling \n",
    "%    using MATLAB ode                   \n",
    "%\n",
    "%   $Ekkehard Holzbecher  $Date: 2006/04/10 $\n",
    "%--------------------------------------------------------------------------\n",
    "T = 25;                % maximum time [T]\n",
    "k1 = 0.3;              % deoxygenation rate coefficient [1/T]\n",
    "k2 = 0.4;              % reaeration rate coefficient [1/T]\n",
    "DOsat = 11;            % DO saturation [M/L^3] \n",
    "BODin = 7.33;          % initial BOD [M/L^3]\n",
    "DOin = 8.5;            % initial DO concentrations [M/L^3]\n",
    "fBOD = 1;              % natural BOD inflow [M/L^3/T]          \n",
    "N = 60;                % discretization of time\n",
    "\n",
    "%----------------------execution-------------------------------------------\n",
    "% BOD = y(1), DO = y(2)\n",
    "options = odeset('AbsTol',1e-20);\n",
    "[t,y] = ode15s(@SP,linspace(0,T,N),[BODin; DOin],options,k1,k2,DOsat,fBOD);\n",
    "\n",
    "%---------------------- graphical output ----------------------------------\n",
    "\n",
    "plot (t,y);\n",
    "legend ('BOD','DO');\n",
    "xlabel ('traveltime'); ylabel ('concentration');\n",
    "grid;\n",
    "\n",
    "%---------------------- function ------------------------------------------\n",
    "\n",
    "function dydt = SP(t,y,k1,k2,DOsat,fBOD)\n",
    "k3 = k1*(1 + 0.5*sin(t*(pi+pi)));\n",
    "dydt(1) = fBOD-k3*y(1);\n",
    "dydt(2) = k2*(DOsat-y(2))-k3*y(1);\n"
   ]
  },
  {
   "cell_type": "code",
   "execution_count": null,
   "metadata": {
    "collapsed": false,
    "scrolled": false
   },
   "outputs": [],
   "source": [
    "%%matlab\n",
    "StreeterPhelps.m"
   ]
  },
  {
   "cell_type": "markdown",
   "metadata": {},
   "source": [
    "## 9.2 Details of Michaelis Menten or Monod Kinetics"
   ]
  },
  {
   "cell_type": "code",
   "execution_count": null,
   "metadata": {
    "collapsed": true
   },
   "outputs": [],
   "source": [
    "# %load ch09/MichaelisMenten.m\n",
    "function MichaelisMenten\n",
    "% Michaelis Menten kinetics - detailed and lumped model\n",
    "%    using MATLAB ode                   \n",
    "%\n",
    "%   $Ekkehard Holzbecher  $Date: 2006/04/10 $\n",
    "%--------------------------------------------------------------------------\n",
    "T = 25;\n",
    "k = [1 0.15 0.4];   % reaction rates\n",
    "s0 = 1;             % initial substrate \n",
    "e0 = .2;            % initial enzyme\n",
    "i0 = 0.1;           % initial intermediate\n",
    "p0 = 0.3;           % initial product\n",
    "\n",
    "%----------------------execution-------------------------------------------\n",
    "% substrate = y(1), enzyme2 = y(2), intermediate = y(3), product = y(4)\n",
    "\n",
    "options = odeset('AbsTol',1e-20);\n",
    "[t,y] = ode15s(@detail,[0 T],[s0; e0; i0; p0],options,k);\n",
    "[tt,z] = ode15s(@lumped,[0 T],s0,options,e0,i0,k);\n",
    "\n",
    "%---------------------- graphical output ----------------------------------\n",
    "\n",
    "plot(t,y(:,1:4));\n",
    "hold on;\n",
    "plot(tt,z(:,1),'--',tt,s0-z(:,1)+p0,'--');\n",
    "legend ('substrate','enzyme','intermediate','product','lumped substrate','lumped product');\n",
    "xlabel('time'); ylabel('concentration');\n",
    "grid;\n",
    "\n",
    "%---------------------- functions -----------------------------------------\n",
    "function dydt = detail(t,y,k)\n",
    "r1 = k(1)*y(1)*y(2);\n",
    "r2 = k(3)*y(3);\n",
    "r3 = k(2)*y(3);\n",
    "dydt = zeros(4,1);\n",
    "dydt(1) = -r1 + r2;\n",
    "dydt(2) = -r1 + r2 + r3;\n",
    "dydt(3) = r1 - r2 - r3;\n",
    "dydt(4) = r3;\n",
    "\n",
    "function dzdt = lumped(t,z,e0,i0,k)\n",
    "dzdt(1) = -k(1)*k(2)*(e0+i0)*z/(k(2)+k(3)+k(1)*z);\n"
   ]
  },
  {
   "cell_type": "markdown",
   "metadata": {},
   "source": [
    "## 9.3 1D Steady State Analytical Solution"
   ]
  },
  {
   "cell_type": "code",
   "execution_count": null,
   "metadata": {
    "collapsed": true
   },
   "outputs": [],
   "source": [
    "# %load ch09/sttransanal.m\n",
    "function sttransanal\n",
    "Pe = [-10,-1,-.1,0,.1,1,10];\n",
    "x = [0:0.025:1]; \n",
    "figure; hold on;\n",
    "for i = 1:size(Pe,2)\n",
    "  plot (x,(1-exp(Pe(i).*x))./(1-exp(Pe(i).*ones(1,size(x,2))))); \n",
    "end\n",
    "legend ('Pe=-10','Pe=-1','Pe=-.1','Pe=0','Pe=.1','Pe=1','Pe=10');\n",
    "xlabel('x/L');\n",
    "ylabel('c/c_0');\n",
    "grid;\n",
    "hold off;"
   ]
  },
  {
   "cell_type": "code",
   "execution_count": null,
   "metadata": {
    "collapsed": true
   },
   "outputs": [],
   "source": [
    "# %load ch09/boudreau_westrich.m\n",
    "function boudreau_westrich\n",
    "% Steady state sulfate profile in aquatic sediments\n",
    "%    using MATLAB ode                   \n",
    "%\n",
    "%   $Ekkehard Holzbecher  $Date: 2006/04/03 $\n",
    "%--------------------------------------------------------------------------\n",
    "L = 1000;                       % length [m]\n",
    "v = 1;                          % velocity [m/s]\n",
    "D = 30000;                      % diffusivity [m*m/s]\n",
    "k = 0.005;                      % 1. Michaelis-Menten parameter [m/s]\n",
    "KS = 0.5;                       % 2. Michaelis-Menten parameter [kg/m*m*m]\n",
    "f = 0.001;                      % mass ratio factor [1]\n",
    "cin = [1000; 1];                % interface concentrations [kg/m*m*m]\n",
    "N = 100;                        % number of nodes  \n",
    "\n",
    "%----------------------execution-------------------------------------------\n",
    "\n",
    "solinit = bvpinit (linspace(0,L,N),[cin; 0]);\n",
    "sol = bvp4c(@bw,@bwbc,solinit,odeset,D,v,k,KS,f,cin);\n",
    "\n",
    "%---------------------- graphical output ----------------------------------\n",
    "\n",
    "plotyy (sol.x,sol.y(1,:),sol.x,sol.y(2,:));\n",
    "legend ('Corg','SO_4'); grid;\n",
    "\n",
    "%----------------------functions-------------------------------------------\n",
    "function dydx = bw(x,y,D,v,k,KS,f,cin)\n",
    "\n",
    "monod = k*y(2)/(KS+y(2));  \n",
    "dydx = zeros (3,1);\n",
    "dydx(1) =  -monod*y(1)/v;\n",
    "dydx(2) =  y(3);\n",
    "dydx(3) =  (v*y(3)+f*monod*y(1))/D;\n",
    "\n",
    "function res = bwbc (ya,yb,D,v,k,KS,f,cin)\n",
    "res = [ya(1:2)-cin; yb(3)];      \n",
    "\n"
   ]
  },
  {
   "cell_type": "markdown",
   "metadata": {},
   "source": [
    "## 9.4 Redox Sequences"
   ]
  },
  {
   "cell_type": "code",
   "execution_count": null,
   "metadata": {
    "collapsed": true
   },
   "outputs": [],
   "source": [
    "# %load ch09/redoxsteady.m\n",
    "function redoxsteady\n",
    "% Steady state redox zones\n",
    "%    using MATLAB ode                   \n",
    "%\n",
    "%   $Ekkehard Holzbecher  $Date: 2006/03/31 $\n",
    "%--------------------------------------------------------------------------\n",
    "L = 100;                        % length [m]\n",
    "v = 1;                          % velocity [m/s]\n",
    "D = 0.2;                        % diffusivity [m*m/s]\n",
    "lambda = 0.01;                  % organic carbon degradation parameter [1/m]  \n",
    "k1 = [0.1; 1; 0.9];             % 1. Michaelis-Menten parameter\n",
    "k2 = [0.035; 1; 1];             % 2. Michaelis-Menten parameter [kg/m*m*m]\n",
    "k3 = [3.5e-3; 1];               % inhibition coefficient [kg/m*m*m]\n",
    "corg = 1;                       % organic carbon concentration at interface \n",
    "cin = [4; 3; 0.001];            % interface concentrations [kg/m*m*m]\n",
    "N = 100;                        % number of nodes  \n",
    "\n",
    "%----------------------execution-------------------------------------------\n",
    "\n",
    "x = linspace(0,L,N);\n",
    "solinit = bvpinit (x,[cin; zeros(3,1)]);\n",
    "sol = bvp4c(@redox,@bcs,solinit,odeset,D,v,lambda,k1,k2,k3,corg,cin);\n",
    "\n",
    "%---------------------- graphical output ----------------------------------\n",
    "\n",
    "plot (x,corg*exp(-lambda*x),sol.x,sol.y(1:3,:));\n",
    "legend ('C_{org}','O_2','NO_2','Mn'); grid;\n",
    "\n",
    "%----------------------functions------------------------------\n",
    "function dydx = redox(x,y,D,v,lambda,k1,k2,k3,corg,cin)\n",
    "\n",
    "c0 = corg*exp(-lambda*x);\n",
    "monod = k1.*(y(1:3)>0).*y(1:3)./(k2+y(1:3));  \n",
    "monod(3) = k1(3); \n",
    "inhib = k3./(k3+y(1:2));\n",
    "dydx = zeros (6,1);\n",
    "dydx(1) =  y(4);\n",
    "dydx(4) =  (v*y(4)+c0*monod(1))/D;\n",
    "dydx(2) =  y(5);\n",
    "dydx(5) =  (v*y(5)+c0*monod(2)*inhib(1))/D;\n",
    "dydx(3) =  y(6);\n",
    "dydx(6) =  (v*y(6)-c0*monod(3)*inhib(1)*inhib(2))/D;\n",
    "\n",
    "function res = bcs (ya,yb,D,v,lambda,k1,k2,k3,corg,cin)\n",
    "res = [ya(1:3)-cin; yb(4:6)-zeros(3,1)];      \n",
    "\n"
   ]
  },
  {
   "cell_type": "markdown",
   "metadata": {},
   "source": [
    "## References"
   ]
  },
  {
   "cell_type": "code",
   "execution_count": null,
   "metadata": {
    "collapsed": true
   },
   "outputs": [],
   "source": []
  }
 ],
 "metadata": {
  "anaconda-cloud": {},
  "kernelspec": {
   "display_name": "Python [default]",
   "language": "python",
   "name": "python3"
  },
  "language_info": {
   "codemirror_mode": {
    "name": "ipython",
    "version": 3
   },
   "file_extension": ".py",
   "mimetype": "text/x-python",
   "name": "python",
   "nbconvert_exporter": "python",
   "pygments_lexer": "ipython3",
   "version": "3.5.2"
  }
 },
 "nbformat": 4,
 "nbformat_minor": 1
}
