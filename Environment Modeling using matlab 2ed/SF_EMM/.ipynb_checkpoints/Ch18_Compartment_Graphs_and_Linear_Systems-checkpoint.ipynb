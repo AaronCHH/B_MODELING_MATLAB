{
 "cells": [
  {
   "cell_type": "markdown",
   "metadata": {},
   "source": [
    "# 18 Compartment Graphs and Linear Systems"
   ]
  },
  {
   "cell_type": "code",
   "execution_count": 2,
   "metadata": {
    "collapsed": false
   },
   "outputs": [
    {
     "name": "stderr",
     "output_type": "stream",
     "text": [
      "C:\\Anaconda3\\lib\\site-packages\\IPython\\nbformat.py:13: ShimWarning: The `IPython.nbformat` package has been deprecated. You should import from nbformat instead.\n",
      "  \"You should import from nbformat instead.\", ShimWarning)\n"
     ]
    },
    {
     "name": "stdout",
     "output_type": "stream",
     "text": [
      "Starting MATLAB on ZMQ socket tcp://127.0.0.1:23961\n",
      "Send 'exit' command to kill the server\n",
      "......MATLAB started and connected!\n"
     ]
    }
   ],
   "source": [
    "%load_ext pymatbridge"
   ]
  },
  {
   "cell_type": "markdown",
   "metadata": {},
   "source": [
    "## 18.1 Compartments and Graphs"
   ]
  },
  {
   "cell_type": "code",
   "execution_count": 3,
   "metadata": {
    "collapsed": false
   },
   "outputs": [
    {
     "data": {
      "image/png": "[encoded data removed]"
     },
     "metadata": {},
     "output_type": "display_data"
    }
   ],
   "source": [
    "%%matlab\n",
    "A = [0 1 0 0 1; 0 0 1 0 1; 0 1 0 1 1; 0 0 1 0 1; 0 1 0 1 0];\n",
    "xy = [1 4; 1 3; 2 2; 2 1; 4 2.5];\n",
    "gplot (A,xy,'-o');\n",
    "axis ([0.5 4.5 0.5 4.5]);\n",
    "text (0.8,4.2,'Vegetation'); text (0.9,3.2,'Surface');\n",
    "text (1.9,2.2,'Soil'); text (1.5,1.2,'Groundwater');\n",
    "text (3.7,2.7,'Surface water');\n",
    "axis off;"
   ]
  },
  {
   "cell_type": "markdown",
   "metadata": {},
   "source": [
    "## 18.2 Linear Systems"
   ]
  },
  {
   "cell_type": "code",
   "execution_count": null,
   "metadata": {
    "collapsed": true
   },
   "outputs": [],
   "source": []
  },
  {
   "cell_type": "code",
   "execution_count": null,
   "metadata": {
    "collapsed": true
   },
   "outputs": [],
   "source": [
    "# %load ch18/nuclides.m\n",
    "function nuclides\n",
    "% Solution for a chain of radionuclides\n",
    "%    using MATLAB expm                   \n",
    "%   $Ekkehard Holzbecher  $Date: 2006/28/12 $\n",
    "%--------------------------------------------------------------------------\n",
    "\n",
    "T = 10;                % maximum time\n",
    "lambda = [1; 0.1; 0.5];% decay rates  \n",
    "c0 = [1; 0; 0];        % initial concentrations\n",
    "q = [0.1; 0; 0];       % source rates\n",
    "N = 60;                % discretization of time\n",
    "\n",
    "t = linspace (0,T,N);\n",
    "B = -diag(lambda);\n",
    "for i = 2:size(lambda,1)\n",
    "    B(i,i-1) = lambda(i-1); \n",
    "end\n",
    "c = c0;\n",
    "\n",
    "for i = 2:N\n",
    "    E = expm(B*t(i));\n",
    "    c = [c E*c0-(eye(size(B,1))-E)*inv(B)*q];\n",
    "end  \n",
    "plot (t,c');\n",
    "legend ('mother','daughter 1','daughter 2');\n",
    "text (T/2,0.8,'Steady state:'); text (T/2,0.7,num2str(-(inv(B)*q)')); \n",
    "xlabel ('time');"
   ]
  },
  {
   "cell_type": "code",
   "execution_count": null,
   "metadata": {
    "collapsed": true
   },
   "outputs": [],
   "source": [
    "# %load ch18/comparts.m\n",
    "function comparts\n",
    "% Solution of a linear compartment model with constant input\n",
    "%    using MATLAB expm                   \n",
    "%    example see: Walter / Contreras p.181\n",
    "%   $Ekkehard Holzbecher  $Date: 2006/04/08 $\n",
    "%--------------------------------------------------------------------------\n",
    "\n",
    "\n",
    "T = 10;                % maximum time \n",
    "C = [-1 1; 1 -3];      % matrix\n",
    "f = [1; 0];            % input vector\n",
    "c0 = [1; 1];           % initial concentrations\n",
    "N = 60;                % discretization of time\n",
    "\n",
    "t = linspace (0,T,N);\n",
    "c = c0;\n",
    "for i = 2:N\n",
    "    E = expm(C*t(i));\n",
    "    c = [c E*c0-(eye(size(C,1))-E)*inv(C)*f];\n",
    "end  \n",
    "plot (t,c');\n",
    "legend ('1','2');\n",
    "text (T/2,1.2,'Eigenvalues:'); text (T/2,1.1,num2str(eig(C)')); \n",
    "text (T/2,0.8,'Steady state:'); text (T/2,0.7,num2str(-(inv(C)*f)')); \n",
    "xlabel ('time');"
   ]
  },
  {
   "cell_type": "markdown",
   "metadata": {},
   "source": [
    "## 18.3 Eigenvalues and Phase Space"
   ]
  },
  {
   "cell_type": "code",
   "execution_count": null,
   "metadata": {
    "collapsed": true
   },
   "outputs": [],
   "source": [
    "# %load ch18/phasediag.m\n",
    "function phasediag\n",
    "% Phase diagram visualisation  \n",
    "%    using MATLAB expm                   \n",
    "%\n",
    "%   $Ekkehard Holzbecher  $Date: 2006/04/15 $\n",
    "%--------------------------------------------------------------------------\n",
    "T = 10;                % maximum time\n",
    "C = [-1 1; 1 -3];      % matrix\n",
    "f = [1; 0];            % input vector\n",
    "cc = 1;                % initial concentrations (absolute value of the vector)\n",
    "N = 60;                % discretization of time\n",
    "M = 16;                % no. of trajectories  \n",
    "\n",
    "%----------------------execution & output----------------------------------\n",
    "equilibrium = -(C\\f);\n",
    "t = linspace (0,T,N);\n",
    "for angle = linspace (0,pi+pi,M)\n",
    "    c0 = equilibrium + cc*[sin(angle); cos(angle)]; c = c0;\n",
    "    for i = 2:N\n",
    "        E = expm(C*t(i));\n",
    "        c = [c E*c0-(eye(size(C,1))-E)*(C\\f)];\n",
    "    end  \n",
    "    plot (c(1,:)',c(2,:)'); hold on;\n",
    "end\n",
    "\n",
    "plot (equilibrium(1),equilibrium(2),'s');\n",
    "xlabel ('variable 1'); ylabel ('variable 2')\n",
    "title ('phase diagram')"
   ]
  },
  {
   "cell_type": "markdown",
   "metadata": {},
   "source": [
    "## References"
   ]
  },
  {
   "cell_type": "code",
   "execution_count": null,
   "metadata": {
    "collapsed": true
   },
   "outputs": [],
   "source": []
  }
 ],
 "metadata": {
  "anaconda-cloud": {},
  "kernelspec": {
   "display_name": "Python [default]",
   "language": "python",
   "name": "python3"
  },
  "language_info": {
   "codemirror_mode": {
    "name": "ipython",
    "version": 3
   },
   "file_extension": ".py",
   "mimetype": "text/x-python",
   "name": "python",
   "nbconvert_exporter": "python",
   "pygments_lexer": "ipython3",
   "version": "3.5.2"
  }
 },
 "nbformat": 4,
 "nbformat_minor": 1
}
