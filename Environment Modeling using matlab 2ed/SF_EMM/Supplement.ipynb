{
 "cells": [
  {
   "cell_type": "markdown",
   "metadata": {},
   "source": [
    "# Supplement"
   ]
  },
  {
   "cell_type": "markdown",
   "metadata": {},
   "source": [
    "## Supplement 1: MATLAB Data Import"
   ]
  },
  {
   "cell_type": "code",
   "execution_count": null,
   "metadata": {
    "collapsed": true
   },
   "outputs": [],
   "source": [
    "uiimport"
   ]
  },
  {
   "cell_type": "code",
   "execution_count": null,
   "metadata": {
    "collapsed": true
   },
   "outputs": [],
   "source": [
    "for i=1:47\n",
    "  for j = 1:12\n",
    "    co2(12*(i-1)+j) = CO2(i,j);\n",
    "    t(12*(i-1)+j) = datenum(1957+i,j,15)\n",
    "  end\n",
    "end\n",
    "\n",
    "plot (t,co2)\n",
    "datetick ('x',11)\n",
    "xlabel (year); ylabel('Atmospheric CO_2 [ppm]');"
   ]
  },
  {
   "cell_type": "markdown",
   "metadata": {},
   "source": [
    "## Supplement 2: Data Export"
   ]
  },
  {
   "cell_type": "code",
   "execution_count": null,
   "metadata": {
    "collapsed": true
   },
   "outputs": [],
   "source": [
    "save('co2.mat', 'co2')"
   ]
  },
  {
   "cell_type": "code",
   "execution_count": null,
   "metadata": {
    "collapsed": true
   },
   "outputs": [],
   "source": [
    "save('co2.mat', 'co2','-ascii')"
   ]
  },
  {
   "cell_type": "markdown",
   "metadata": {},
   "source": [
    "Also important is the ```-append``` option for the data to be appended at the end of an\n",
    "existing file."
   ]
  },
  {
   "cell_type": "markdown",
   "metadata": {},
   "source": [
    "## Supplement 3: Data Presentation in a Histogram"
   ]
  },
  {
   "cell_type": "code",
   "execution_count": null,
   "metadata": {
    "collapsed": true
   },
   "outputs": [],
   "source": [
    "# %load sup/bardemo.m\n",
    "function bardemo\n",
    "% representation of results                     Holzbecher January 2007\n",
    "\n",
    "C = [53.30718      98.92727       46.9855        217.84   NaN     5.868182;...\n",
    "     40.36167            56         47.85         294.9    NaN    5.593333;...\n",
    "     28.40         48.98571      NaN      248.1429      61.    2.401429;...\n",
    "     214.62859          406.5       1006.227        1326.15    160.    119.61;...\n",
    "     345.358         638.9      833.0768      907.8222      743.    57.651;... \n",
    "     135.6125           222      438.9075        497.15     265.    14.145;...\n",
    "     102.441      185.6667      408.6333        NaN     140.    11.95333;...    \n",
    "     22.7375          68.5        157.18        NaN      55.    4.0;...\n",
    "     83.2555           79.5         NaN        NaN     120.     24.725;...\n",
    "     97.259545      163.68182      NaN         NaN     163.333    23.774545;...\n",
    "     89.761          113.5        NaN            241      120.     2.335;...\n",
    "     129.383         215.1      150.5883        327.46       310.     1.933333;...\n",
    "     52.9526        133.48          77.9      274.0889      147.5     1.561] ;\n",
    "\n",
    "bar(C);\n",
    "xlabel ('observation points');\n",
    "ylabel ('C [\\mug/l]');\n",
    "title ('measured concentrations');\n",
    "legend ('Na','Cl','B','HCO_3','F','TOC');\n"
   ]
  },
  {
   "cell_type": "code",
   "execution_count": null,
   "metadata": {
    "collapsed": true
   },
   "outputs": [],
   "source": []
  }
 ],
 "metadata": {
  "anaconda-cloud": {},
  "kernelspec": {
   "display_name": "Python [default]",
   "language": "python",
   "name": "python3"
  },
  "language_info": {
   "codemirror_mode": {
    "name": "ipython",
    "version": 3
   },
   "file_extension": ".py",
   "mimetype": "text/x-python",
   "name": "python",
   "nbconvert_exporter": "python",
   "pygments_lexer": "ipython3",
   "version": "3.5.2"
  }
 },
 "nbformat": 4,
 "nbformat_minor": 1
}
