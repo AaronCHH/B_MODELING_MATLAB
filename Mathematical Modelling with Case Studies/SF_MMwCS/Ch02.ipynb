{
 "cells": [
  {
   "cell_type": "markdown",
   "metadata": {},
   "source": [
    "### 2.Compartmental Models"
   ]
  },
  {
   "cell_type": "markdown",
   "metadata": {},
   "source": [
    "### 2.1.Introduction"
   ]
  },
  {
   "cell_type": "markdown",
   "metadata": {},
   "source": [
    "### 2.2.Exponential decay and radioactivity"
   ]
  },
  {
   "cell_type": "code",
   "execution_count": null,
   "metadata": {
    "collapsed": true
   },
   "outputs": [],
   "source": [
    "# %load c_cm_expdecay.m\n",
    "function c_cm_coldpills1\n",
    "global k1; \n",
    "\n",
    "k1=2.0;  % set parameter value  \n",
    "tend=5; %end time in hours\n",
    "x0=10^5; \n",
    "[tsol, xsol] = ode45(@rhs, [0, tend], x0);\n",
    "plot(tsol, xsol,'k');\n",
    "\n",
    "function xdot = rhs(t, x) \n",
    "global k1;\n",
    "xdot = -k1*x;\n"
   ]
  },
  {
   "cell_type": "code",
   "execution_count": null,
   "metadata": {
    "collapsed": false,
    "scrolled": false
   },
   "outputs": [],
   "source": [
    "c_cm_expdecay"
   ]
  },
  {
   "cell_type": "code",
   "execution_count": null,
   "metadata": {
    "collapsed": true
   },
   "outputs": [],
   "source": [
    "# %load c_cm_expdecay_sym.m\n",
    "dsolve('DN = -k*N', 'N(0)=N0', 't') "
   ]
  },
  {
   "cell_type": "code",
   "execution_count": null,
   "metadata": {
    "collapsed": false
   },
   "outputs": [],
   "source": [
    "c_cm_expdecay_sym"
   ]
  },
  {
   "cell_type": "markdown",
   "metadata": {},
   "source": [
    "### 2.3.Case study: detecting art forgeries"
   ]
  },
  {
   "cell_type": "markdown",
   "metadata": {},
   "source": [
    "### 2.4.Case study: Pacific rats colonize New Zealand"
   ]
  },
  {
   "cell_type": "markdown",
   "metadata": {},
   "source": [
    "### 2.5.Lake pollution models"
   ]
  },
  {
   "cell_type": "code",
   "execution_count": null,
   "metadata": {
    "collapsed": true
   },
   "outputs": [],
   "source": [
    "# %load c_cm_lake.m\n",
    "function c_cm_lake\n",
    " global F V cin %set global variables\n",
    " N = 100; \n",
    " cin=3; V=28; F=4*12; c0=10; tend=4;\n",
    " t = linspace(0,1,N)\n",
    " [tsol, ysol] = ode45( @derhs, [0, tend], c0 );\n",
    " plot(tsol, ysol)\n",
    "\n",
    "function ydot = derhs(t, c)\n",
    " global F V cin %set global variables\n",
    " ydot = F/V*(cin - c);\n"
   ]
  },
  {
   "cell_type": "code",
   "execution_count": 2,
   "metadata": {
    "collapsed": false
   },
   "outputs": [
    {
     "data": {
      "image/png": "[encoded data removed]",
      "text/plain": [
       "<IPython.core.display.Image object>"
      ]
     },
     "metadata": {},
     "output_type": "display_data"
    },
    {
     "data": {},
     "execution_count": 2,
     "metadata": {},
     "output_type": "execute_result"
    }
   ],
   "source": [
    "c_cm_lake"
   ]
  },
  {
   "cell_type": "markdown",
   "metadata": {},
   "source": [
    "### 2.6.Case study: Lake Burley Griffin"
   ]
  },
  {
   "cell_type": "markdown",
   "metadata": {},
   "source": [
    "### 2.7.Drug assimilation into the blood"
   ]
  },
  {
   "cell_type": "code",
   "execution_count": null,
   "metadata": {
    "collapsed": true
   },
   "outputs": [],
   "source": [
    "# %load c_cm_coldpills.m\n",
    "function c_cm_coldpills1\n",
    "global k1 k2; \n",
    "k1=1.386; k2=0.1386;    \n",
    "tend=15; %end time in hours\n",
    "x0=1; y0=0; u0 = [x0; y0]; \n",
    "[tsol, usol] = ode45(@rhs, [0, tend], u0);\n",
    "xsol = usol(:,1);\n",
    "ysol = usol(:,2);\n",
    "plot(tsol, xsol,'k'); hold on\n",
    "plot(tsol, ysol,'r:'); hold off\n",
    "\n",
    "function udot = rhs(t, u) \n",
    "global k1 k2\n",
    "x = u(1); y=u(2); \n",
    "xdot = -k1*x;\n",
    "ydot = k1*x - k2*y;\n",
    "udot = [xdot; ydot];"
   ]
  },
  {
   "cell_type": "code",
   "execution_count": 1,
   "metadata": {
    "collapsed": false
   },
   "outputs": [
    {
     "data": {
      "image/png": "[encoded data removed]",
      "text/plain": [
       "<IPython.core.display.Image object>"
      ]
     },
     "metadata": {},
     "output_type": "display_data"
    },
    {
     "data": {},
     "execution_count": 1,
     "metadata": {},
     "output_type": "execute_result"
    }
   ],
   "source": [
    "c_cm_coldpills"
   ]
  },
  {
   "cell_type": "markdown",
   "metadata": {},
   "source": [
    "### 2.8.Case study: dull, dizzy, or dead?"
   ]
  },
  {
   "cell_type": "markdown",
   "metadata": {},
   "source": [
    "### 2.9.Cascades of compartments"
   ]
  },
  {
   "cell_type": "markdown",
   "metadata": {},
   "source": [
    "### 2.10.First-order linear DEs"
   ]
  },
  {
   "cell_type": "markdown",
   "metadata": {},
   "source": [
    "### 2.11.Equilibrium points and stability"
   ]
  },
  {
   "cell_type": "markdown",
   "metadata": {},
   "source": [
    "### 2.12.Case study: money, money, money makes the world go around"
   ]
  },
  {
   "cell_type": "code",
   "execution_count": null,
   "metadata": {
    "collapsed": true
   },
   "outputs": [],
   "source": []
  }
 ],
 "metadata": {
  "kernelspec": {
   "display_name": "Matlab",
   "language": "matlab",
   "name": "matlab_kernel"
  },
  "language_info": {
   "file_extension": ".m",
   "help_links": [
    {
     "text": "MetaKernel Magics",
     "url": "https://github.com/calysto/metakernel/blob/master/metakernel/magics/README.md"
    }
   ],
   "mimetype": "text/x-matlab",
   "name": "octave"
  }
 },
 "nbformat": 4,
 "nbformat_minor": 0
}
