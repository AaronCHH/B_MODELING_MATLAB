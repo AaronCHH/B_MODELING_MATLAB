{
 "cells": [
  {
   "cell_type": "markdown",
   "metadata": {},
   "source": [
    "### 10.Solving Time-Dependent Heat Problems"
   ]
  },
  {
   "cell_type": "markdown",
   "metadata": {},
   "source": [
    "### 10.1.The cooling coffee problem revisited"
   ]
  },
  {
   "cell_type": "markdown",
   "metadata": {},
   "source": [
    "### 10.2.The water heater problem revisited"
   ]
  },
  {
   "cell_type": "markdown",
   "metadata": {},
   "source": [
    "### 10.3.Case study: it’s hot and stuffy in the attic"
   ]
  },
  {
   "cell_type": "markdown",
   "metadata": {},
   "source": [
    "### 10.4.Spontaneous combustion"
   ]
  },
  {
   "cell_type": "code",
   "execution_count": null,
   "metadata": {
    "collapsed": true
   },
   "outputs": [],
   "source": [
    "# %load c_ht_sponcombust.m\n",
    "function c_ht_sponcomp\n",
    "global lambda sigma theta_a;\n",
    "\n",
    "sigma = 1.0; \n",
    "theta_a = 0.2;\n",
    "tend = 300;\n",
    "y0 = theta_a; \n",
    "lambda = 2.84;\n",
    "[tsol, ysol] = ode45(@rhs, [0 tend] , y0);\n",
    "plot(tsol, ysol, '-.');\n",
    "hold on;\n",
    "lambda = 2.85;\n",
    "[tsol, ysol] = ode45(@rhs, [0 tend] , y0);\n",
    "plot(tsol, ysol, ':');\n",
    "lambda = 2.86;\n",
    "[tsol, ysol] = ode45(@rhs, [0 tend] , y0);\n",
    "plot(tsol, ysol, '-');\n",
    "axis([0, tend, 0, 2])\n",
    "\n",
    "function thetadot = rhs(t, theta)\n",
    "global lambda sigma theta_a;\n",
    "thetadot = lambda/sigma*exp(-1/theta) - 1/sigma*(theta - theta_a);\n"
   ]
  },
  {
   "cell_type": "code",
   "execution_count": 1,
   "metadata": {
    "collapsed": false
   },
   "outputs": [
    {
     "data": {
      "image/png": "[encoded data removed]",
      "text/plain": [
       "<IPython.core.display.Image object>"
      ]
     },
     "metadata": {},
     "output_type": "display_data"
    },
    {
     "data": {},
     "execution_count": 1,
     "metadata": {},
     "output_type": "execute_result"
    }
   ],
   "source": [
    "c_ht_sponcombust"
   ]
  },
  {
   "cell_type": "markdown",
   "metadata": {},
   "source": [
    "### 10.5.Case study: fish and chips explode"
   ]
  },
  {
   "cell_type": "markdown",
   "metadata": {},
   "source": [
    "### 10.6.Exercise"
   ]
  }
 ],
 "metadata": {
  "kernelspec": {
   "display_name": "Matlab",
   "language": "matlab",
   "name": "matlab_kernel"
  },
  "language_info": {
   "file_extension": ".m",
   "help_links": [
    {
     "text": "MetaKernel Magics",
     "url": "https://github.com/calysto/metakernel/blob/master/metakernel/magics/README.md"
    }
   ],
   "mimetype": "text/x-matlab",
   "name": "octave"
  }
 },
 "nbformat": 4,
 "nbformat_minor": 0
}
