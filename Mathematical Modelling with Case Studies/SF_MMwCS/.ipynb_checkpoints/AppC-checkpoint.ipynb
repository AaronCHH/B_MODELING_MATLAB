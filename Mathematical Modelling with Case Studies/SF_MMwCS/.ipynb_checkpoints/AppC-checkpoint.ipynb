{
 "cells": [
  {
   "cell_type": "markdown",
   "metadata": {},
   "source": [
    "### 15.Appendix C: Notes on Maple and MATLAB"
   ]
  },
  {
   "cell_type": "markdown",
   "metadata": {},
   "source": [
    "### 15.1.Brief introduction to Maple"
   ]
  },
  {
   "cell_type": "markdown",
   "metadata": {},
   "source": [
    "### 15.2.Using Maple to solve DEs"
   ]
  },
  {
   "cell_type": "markdown",
   "metadata": {},
   "source": [
    "### 15.3.Brief introduction to MATLAB"
   ]
  },
  {
   "cell_type": "markdown",
   "metadata": {},
   "source": [
    "### 15.4.Solving differential equations with MATLAB"
   ]
  },
  {
   "cell_type": "code",
   "execution_count": null,
   "metadata": {
    "collapsed": true
   },
   "outputs": [],
   "source": [
    "# %load c_app_solveode.m\n",
    "function c_mainprogram; %define main program as function\n",
    "trange = [0 2]; % set range of values of t to solve for\n",
    "x0 = 2.5; % set initial value ofDE\n",
    "[tsol, xsol] = ode45(@rhs, trange, x0); %solve the DE\n",
    "plot(tsol, xsol); %plot the solution \n",
    "\n",
    "function dxdt = rhs(t, x) % function definition\n",
    "dxdt = x^2/10^3-3*t; % this defines RHS of dx/dt\n"
   ]
  },
  {
   "cell_type": "code",
   "execution_count": 2,
   "metadata": {
    "collapsed": false
   },
   "outputs": [
    {
     "data": {
      "image/png": "[encoded data removed]",
      "text/plain": [
       "<IPython.core.display.Image object>"
      ]
     },
     "metadata": {},
     "output_type": "display_data"
    },
    {
     "data": {},
     "execution_count": 2,
     "metadata": {},
     "output_type": "execute_result"
    }
   ],
   "source": [
    "c_app_solveode"
   ]
  },
  {
   "cell_type": "code",
   "execution_count": null,
   "metadata": {
    "collapsed": true
   },
   "outputs": [],
   "source": [
    "# %load c_app_systemsolve.m\n",
    "function c_app_systemsolve\n",
    "global a b;       % define a,b, \n",
    "trange = [0 1];  % range of values of t\n",
    "a = 1; b = 3;      % parameter values\n",
    "u0 = [1; 2];        % define initial values \n",
    "[tsol, usol] = ode45(@rhs, [0 1], u0); %solve system\n",
    "\n",
    "xsol = usol(:,1); ysol=usol(:,2); % extract x(t) and y(t)l\n",
    "plot(tsol, xsol);        % plot x(t)\n",
    "hold on;                   % cause the plot to not be overwritten \n",
    "plot(tsol, ysol, 'r:');  % plot y(t)\n",
    "hold off;                   % new plots replace the previous plot\n",
    "\n",
    "function udot = rhs(t, u)\n",
    "global a b;                 % allows access to variables in main function\n",
    "x = u(1); y = u(2);      % define x,y as components of vector u\n",
    "xdot = 3*x - b*y;        % define the RHS of DE for x(t)\n",
    "ydot = 3*x + a*y + 1; % define the RHS of DE for x(t)\n",
    "udot = [xdot; ydot];    % assemble the DEs into a column vector\n"
   ]
  },
  {
   "cell_type": "code",
   "execution_count": 4,
   "metadata": {
    "collapsed": false
   },
   "outputs": [
    {
     "data": {
      "image/png": "[encoded data removed]",
      "text/plain": [
       "<IPython.core.display.Image object>"
      ]
     },
     "metadata": {},
     "output_type": "display_data"
    },
    {
     "data": {},
     "execution_count": 4,
     "metadata": {},
     "output_type": "execute_result"
    }
   ],
   "source": [
    "c_app_systemsolve"
   ]
  },
  {
   "cell_type": "code",
   "execution_count": null,
   "metadata": {
    "collapsed": true
   },
   "outputs": [],
   "source": [
    "# %load c_dirplot.m\n",
    "function c_dirplot(rhsfcn, xmin, xmax, ymin, ymax, Ngrid)\n",
    "% function to plot direction fields given the RHS of a system of 2 DEs\n",
    "% xmin, xmax, ymin, ymax scalar values defining plot region\n",
    "% Ngrid= number of points on grid for arrows\n",
    "\n",
    "\n",
    "lflag = 1; %a flag for whether arrows of same length (flag=1) or not\n",
    "\n",
    "%make a grid\n",
    "disp(xmin)\n",
    "x = linspace(xmin, xmax, Ngrid);\n",
    "y = linspace(ymin, ymax, Ngrid);\n",
    "[Xm, Ym] = meshgrid(x,y); \n",
    "\n",
    "%insert the function values at each point of the grid\n",
    "%into the arrays xd and yd\n",
    "for i = 1:Ngrid\n",
    "    for j=1:Ngrid\n",
    "        uvec = rhsfcn(0, [x(i), y(j)]);\n",
    "        if lflag==1\n",
    "            xd(j,i) = uvec(1)/norm(uvec);\n",
    "            yd(j,i) = uvec(2)/norm(uvec);\n",
    "            sfactor=0.6\n",
    "        else\n",
    "            xd(j,i) = uvec(1);\n",
    "            yd(j,i) = uvec(2);\n",
    "            sfactor=1.0;\n",
    "        end\n",
    "    end\n",
    "end\n",
    "%use Matlab quiver function to do the dirfield plot\n",
    "quiver(Xm, Ym, xd, yd, sfactor,'r');\n",
    "\n",
    "\n"
   ]
  },
  {
   "cell_type": "code",
   "execution_count": 5,
   "metadata": {
    "collapsed": false
   },
   "outputs": [
    {
     "data": {
      "text/plain": [
       "Not enough input arguments."
      ]
     },
     "execution_count": 5,
     "metadata": {},
     "output_type": "execute_result"
    }
   ],
   "source": [
    "c_dirplot"
   ]
  },
  {
   "cell_type": "code",
   "execution_count": null,
   "metadata": {
    "collapsed": true
   },
   "outputs": [],
   "source": []
  }
 ],
 "metadata": {
  "kernelspec": {
   "display_name": "Matlab",
   "language": "matlab",
   "name": "matlab_kernel"
  },
  "language_info": {
   "file_extension": ".m",
   "help_links": [
    {
     "text": "MetaKernel Magics",
     "url": "https://github.com/calysto/metakernel/blob/master/metakernel/magics/README.md"
    }
   ],
   "mimetype": "text/x-matlab",
   "name": "octave"
  }
 },
 "nbformat": 4,
 "nbformat_minor": 0
}
