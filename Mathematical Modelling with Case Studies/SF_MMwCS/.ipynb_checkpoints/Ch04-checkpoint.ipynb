{
 "cells": [
  {
   "cell_type": "markdown",
   "metadata": {},
   "source": [
    "### 4.Numerical Solution of Differential Equations"
   ]
  },
  {
   "cell_type": "markdown",
   "metadata": {},
   "source": [
    "### 4.1.Introduction"
   ]
  },
  {
   "cell_type": "markdown",
   "metadata": {},
   "source": [
    "### 4.2.Basic numerical schemes"
   ]
  },
  {
   "cell_type": "markdown",
   "metadata": {},
   "source": [
    "### 4.3.Computer implementation using Maple and MATLAB"
   ]
  },
  {
   "cell_type": "markdown",
   "metadata": {},
   "source": [
    "### 4.4.Instability"
   ]
  },
  {
   "cell_type": "markdown",
   "metadata": {},
   "source": [
    "### 4.5.Discussion"
   ]
  },
  {
   "cell_type": "markdown",
   "metadata": {},
   "source": [
    "### 4.6.Exercises for Chapter 4"
   ]
  },
  {
   "cell_type": "code",
   "execution_count": null,
   "metadata": {
    "collapsed": true
   },
   "outputs": [],
   "source": [
    "# %load c_cn_eulersolve.m\n",
    "function c_cn_eulersolve\n",
    "tend = 1; trange = [0, tend];\n",
    "Npts = 10; %number of time-steps\n",
    "y0 = 1; \n",
    "[tsol, ysol] = odeEuler(@rhs, trange, y0, Npts); \n",
    "plot(tsol, ysol,'b'); hold on;\n",
    "plot(tsol, exp(3*tsol),'g');\n",
    "\n",
    "function ydot = rhs(t, y) \n",
    "ydot = 3*y;\n",
    "\n",
    "function [t, y] = odeEuler(fcn, trange, y0, Npts)\n",
    "h = trange(end)/Npts; % the step size\n",
    "t = zeros(1,Npts); y = zeros(1,Npts);\n",
    "y(1) = y0; t(1)=trange(1); \n",
    "for k=1:Npts\n",
    "    y(k+1) = y(k) + h*fcn(t(k),y(k));\n",
    "    t(k+1) = t(k) + h;\n",
    "end\n",
    "    \n",
    "    \n"
   ]
  },
  {
   "cell_type": "code",
   "execution_count": 1,
   "metadata": {
    "collapsed": false,
    "scrolled": false
   },
   "outputs": [
    {
     "data": {
      "image/png": "[encoded data removed]",
      "text/plain": [
       "<IPython.core.display.Image object>"
      ]
     },
     "metadata": {},
     "output_type": "display_data"
    },
    {
     "data": {},
     "execution_count": 1,
     "metadata": {},
     "output_type": "execute_result"
    }
   ],
   "source": [
    "c_cn_eulersolve"
   ]
  },
  {
   "cell_type": "code",
   "execution_count": null,
   "metadata": {
    "collapsed": true
   },
   "outputs": [],
   "source": []
  }
 ],
 "metadata": {
  "kernelspec": {
   "display_name": "Matlab",
   "language": "matlab",
   "name": "matlab_kernel"
  },
  "language_info": {
   "file_extension": ".m",
   "help_links": [
    {
     "text": "MetaKernel Magics",
     "url": "https://github.com/calysto/metakernel/blob/master/metakernel/magics/README.md"
    }
   ],
   "mimetype": "text/x-matlab",
   "name": "octave"
  }
 },
 "nbformat": 4,
 "nbformat_minor": 0
}
