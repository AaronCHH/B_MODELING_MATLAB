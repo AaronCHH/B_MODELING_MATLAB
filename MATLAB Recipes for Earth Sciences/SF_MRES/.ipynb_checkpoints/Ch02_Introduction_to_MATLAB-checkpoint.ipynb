{
 "cells": [
  {
   "cell_type": "markdown",
   "metadata": {},
   "source": [
    "# 2 Introduction to MATLAB"
   ]
  },
  {
   "cell_type": "code",
   "execution_count": 4,
   "metadata": {
    "collapsed": false
   },
   "outputs": [
    {
     "name": "stderr",
     "output_type": "stream",
     "text": [
      "C:\\Anaconda3\\lib\\site-packages\\IPython\\nbformat.py:13: ShimWarning: The `IPython.nbformat` package has been deprecated. You should import from nbformat instead.\n",
      "  \"You should import from nbformat instead.\", ShimWarning)\n"
     ]
    },
    {
     "name": "stdout",
     "output_type": "stream",
     "text": [
      "Starting MATLAB on ZMQ socket tcp://127.0.0.1:15772\n",
      "Send 'exit' command to kill the server\n",
      "...............................................MATLAB started and connected!\n"
     ]
    }
   ],
   "source": [
    "%load_ext pymatbridge"
   ]
  },
  {
   "cell_type": "markdown",
   "metadata": {},
   "source": [
    "## 2.1 MATLAB in Earth Sciences"
   ]
  },
  {
   "cell_type": "markdown",
   "metadata": {},
   "source": [
    "## 2.2 Getting Started"
   ]
  },
  {
   "cell_type": "markdown",
   "metadata": {},
   "source": [
    "## 2.3 The Syntax"
   ]
  },
  {
   "cell_type": "code",
   "execution_count": 5,
   "metadata": {
    "collapsed": true
   },
   "outputs": [],
   "source": [
    "%%matlab\n",
    "clear\n",
    "close all\n",
    "clc"
   ]
  },
  {
   "cell_type": "code",
   "execution_count": 6,
   "metadata": {
    "collapsed": false
   },
   "outputs": [
    {
     "data": {
      "text/plain": [
       "\r\n",
       "A =\r\n",
       "\r\n",
       "     2     4     3     7\r\n",
       "     9     3    -1     2\r\n",
       "     1     9     3     7\r\n",
       "     6     6     3    -2\r\n",
       "\r\n"
      ]
     },
     "metadata": {},
     "output_type": "display_data"
    }
   ],
   "source": [
    "%%matlab\n",
    "A = [2 4 3 7; 9 3 -1 2; 1 9 3 7; 6 6 3 -2]"
   ]
  },
  {
   "cell_type": "code",
   "execution_count": 9,
   "metadata": {
    "collapsed": false
   },
   "outputs": [],
   "source": [
    "%%matlab\n",
    "A = [2 4 3 7; 9 3 -1 2; 1 9 3 7; 6 6 3 -2];"
   ]
  },
  {
   "cell_type": "code",
   "execution_count": 10,
   "metadata": {
    "collapsed": false
   },
   "outputs": [
    {
     "data": {
      "text/plain": [
       "\r\n",
       "ans =\r\n",
       "\r\n",
       "    18    22     8    14\r\n",
       "\r\n"
      ]
     },
     "metadata": {},
     "output_type": "display_data"
    }
   ],
   "source": [
    "%%matlab\n",
    "sum(A)"
   ]
  },
  {
   "cell_type": "code",
   "execution_count": 12,
   "metadata": {
    "collapsed": false
   },
   "outputs": [
    {
     "data": {
      "text/plain": [
       "\r\n",
       "b =\r\n",
       "\r\n",
       "    62\r\n",
       "\r\n"
      ]
     },
     "metadata": {},
     "output_type": "display_data"
    }
   ],
   "source": [
    "%%matlab\n",
    "b = sum(sum(A));\n",
    "b"
   ]
  },
  {
   "cell_type": "code",
   "execution_count": 13,
   "metadata": {
    "collapsed": false
   },
   "outputs": [
    {
     "data": {
      "text/plain": [
       "  Name      Size            Bytes  Class     Attributes\r\n",
       "\r\n",
       "  A         4x4               128  double              \r\n",
       "  ans       1x4                32  double              \r\n",
       "  b         1x1                 8  double              \r\n",
       "\r\n"
      ]
     },
     "metadata": {},
     "output_type": "display_data"
    }
   ],
   "source": [
    "%%matlab\n",
    "whos"
   ]
  },
  {
   "cell_type": "code",
   "execution_count": 14,
   "metadata": {
    "collapsed": true
   },
   "outputs": [],
   "source": [
    "%%matlab\n",
    "clear ans"
   ]
  },
  {
   "cell_type": "code",
   "execution_count": 15,
   "metadata": {
    "collapsed": false
   },
   "outputs": [
    {
     "data": {
      "text/plain": [
       "\r\n",
       "ans =\r\n",
       "\r\n",
       "     9\r\n",
       "\r\n"
      ]
     },
     "metadata": {},
     "output_type": "display_data"
    }
   ],
   "source": [
    "%%matlab\n",
    "A(3,2)"
   ]
  },
  {
   "cell_type": "code",
   "execution_count": 16,
   "metadata": {
    "collapsed": false
   },
   "outputs": [
    {
     "data": {
      "text/plain": [
       "\r\n",
       "A =\r\n",
       "\r\n",
       "     2     4     3     7\r\n",
       "     9     3    -1     2\r\n",
       "     1    30     3     7\r\n",
       "     6     6     3    -2\r\n",
       "\r\n"
      ]
     },
     "metadata": {},
     "output_type": "display_data"
    }
   ],
   "source": [
    "%%matlab\n",
    "A(3,2) = 30"
   ]
  },
  {
   "cell_type": "code",
   "execution_count": 17,
   "metadata": {
    "collapsed": false
   },
   "outputs": [
    {
     "data": {
      "text/plain": [
       "\r\n",
       "A =\r\n",
       "\r\n",
       "     2     4     3     7\r\n",
       "     9     3    -1     2\r\n",
       "     1     3     3     5\r\n",
       "     6     6     3    -2\r\n",
       "\r\n"
      ]
     },
     "metadata": {},
     "output_type": "display_data"
    }
   ],
   "source": [
    "%%matlab\n",
    "A(3,1:4) = [1 3 3 5]"
   ]
  },
  {
   "cell_type": "code",
   "execution_count": 18,
   "metadata": {
    "collapsed": false
   },
   "outputs": [
    {
     "data": {
      "text/plain": [
       "\r\n",
       "A =\r\n",
       "\r\n",
       "     2     4     3     7\r\n",
       "     9     3    -1     2\r\n",
       "     1     3     3     5\r\n",
       "     6     6     3    -2\r\n",
       "\r\n"
      ]
     },
     "metadata": {},
     "output_type": "display_data"
    }
   ],
   "source": [
    "%%matlab\n",
    "A(3,:) = [1 3 3 5]"
   ]
  },
  {
   "cell_type": "code",
   "execution_count": 19,
   "metadata": {
    "collapsed": false
   },
   "outputs": [
    {
     "data": {
      "text/plain": [
       "\r\n",
       "c =\r\n",
       "\r\n",
       "     0     1     2     3     4     5     6     7     8     9    10\r\n",
       "\r\n"
      ]
     },
     "metadata": {},
     "output_type": "display_data"
    }
   ],
   "source": [
    "%%matlab\n",
    "c = 0 : 10"
   ]
  },
  {
   "cell_type": "code",
   "execution_count": 20,
   "metadata": {
    "collapsed": false
   },
   "outputs": [
    {
     "data": {
      "text/plain": [
       "  Name      Size            Bytes  Class     Attributes\r\n",
       "\r\n",
       "  A         4x4               128  double              \r\n",
       "  ans       1x1                 8  double              \r\n",
       "  b         1x1                 8  double              \r\n",
       "  c         1x11               88  double              \r\n",
       "\r\n"
      ]
     },
     "metadata": {},
     "output_type": "display_data"
    }
   ],
   "source": [
    "%%matlab\n",
    "whos"
   ]
  },
  {
   "cell_type": "code",
   "execution_count": 21,
   "metadata": {
    "collapsed": false
   },
   "outputs": [
    {
     "data": {
      "text/plain": [
       "\r\n",
       "c =\r\n",
       "\r\n",
       "  Columns 1 through 13\r\n",
       "\r\n",
       "    1.0000    1.5000    2.0000    2.5000    3.0000    3.5000    4.0000    4.5000    5.0000    5.5000    6.0000    6.5000    7.0000\r\n",
       "\r\n",
       "  Columns 14 through 19\r\n",
       "\r\n",
       "    7.5000    8.0000    8.5000    9.0000    9.5000   10.0000\r\n",
       "\r\n"
      ]
     },
     "metadata": {},
     "output_type": "display_data"
    }
   ],
   "source": [
    "%%matlab\n",
    "c = 1 : 0.5 : 10"
   ]
  },
  {
   "cell_type": "code",
   "execution_count": 22,
   "metadata": {
    "collapsed": true
   },
   "outputs": [],
   "source": [
    "%%matlab\n",
    "B = [4 2 6 5; 7 8 5 6; 2 1 -8 -9; 3 1 2 3];"
   ]
  },
  {
   "cell_type": "code",
   "execution_count": 23,
   "metadata": {
    "collapsed": false
   },
   "outputs": [
    {
     "data": {
      "text/plain": [
       "\r\n",
       "C =\r\n",
       "\r\n",
       "    69   103   -79    37\r\n",
       "    46    94    11    34\r\n",
       "    53    76   -64    27\r\n",
       "    44    93    12    24\r\n",
       "\r\n"
      ]
     },
     "metadata": {},
     "output_type": "display_data"
    }
   ],
   "source": [
    "%%matlab\n",
    "C = A * B'"
   ]
  },
  {
   "cell_type": "code",
   "execution_count": 24,
   "metadata": {
    "collapsed": false
   },
   "outputs": [
    {
     "data": {
      "text/plain": [
       "\r\n",
       "C =\r\n",
       "\r\n",
       "     8     8    18    35\r\n",
       "    63    24    -5    12\r\n",
       "     2     3   -24   -45\r\n",
       "    18     6     6    -6\r\n",
       "\r\n"
      ]
     },
     "metadata": {},
     "output_type": "display_data"
    }
   ],
   "source": [
    "%%matlab\n",
    "C = A .* B"
   ]
  },
  {
   "cell_type": "markdown",
   "metadata": {},
   "source": [
    "## 2.4 Array Manipulation"
   ]
  },
  {
   "cell_type": "code",
   "execution_count": null,
   "metadata": {
    "collapsed": true
   },
   "outputs": [],
   "source": [
    "%%matlab\n",
    "clear\n",
    "\n",
    "%%matlab\n",
    "A = [2 4 3; 9 3 -1]\n",
    "B = [1 9 3; 6 6 3]\n",
    "\n",
    "%%matlab\n",
    "C = cat(1,A,B)\n",
    "C = vertcat(A,B)\n",
    "\n",
    "%%matlab\n",
    "D = cat(2,A,B)\n",
    "D = horzcat(A,B)\n",
    "\n",
    "%%matlab\n",
    "E = cat(3,A,B)\n",
    "\n",
    "%%matlab\n",
    "whos\n",
    "\n",
    "%%matlab\n",
    "size(E)\n",
    "\n",
    "%%matlab\n",
    "length(E)\n",
    "\n",
    "%%matlab\n",
    "F = flipud(A)\n",
    "F = fliplr(A)\n",
    "\n",
    "%%matlab\n",
    "G = circshift(A,1,2)\n",
    "\n",
    "%%matlab\n",
    "H = reshape(A,[3 2])\n",
    "\n",
    "%%matlab\n",
    "I = sort(C,1,'ascend')\n",
    "\n",
    "%%matlab\n",
    "J = sortrows(C,2)\n",
    "\n",
    "%%matlab\n",
    "A, B\n",
    "\n",
    "%%matlab\n",
    "K = ismember(A,B)\n",
    "\n",
    "%%matlab\n",
    "L = A\n",
    "L(find(L<0)) = NaN\n",
    "L(L<0) = NaN\n",
    "\n",
    "%%matlab\n",
    "M = isnan(L)\n",
    "\n",
    "%%matlab\n",
    "N = unique(A)"
   ]
  },
  {
   "cell_type": "markdown",
   "metadata": {},
   "source": [
    "## 2.5 Data Structures and Classes of Objects"
   ]
  },
  {
   "cell_type": "code",
   "execution_count": null,
   "metadata": {
    "collapsed": true
   },
   "outputs": [],
   "source": [
    "%% Section 2.5matlab\n",
    "clear\n",
    "\n",
    "%%matlab\n",
    "realmin('double')\n",
    "realmax('double')\n",
    "\n",
    "%%matlab\n",
    "eps(1.0)\n",
    "eps(5.0)\n",
    "\n",
    "%%matlab\n",
    "sin(pi)\n",
    "\n",
    "%%matlab\n",
    "clear\n",
    "\n",
    "%%matlab\n",
    "rng(0)\n",
    "A = rand(3,4)\n",
    "\n",
    "%%matlab\n",
    "format long\n",
    "\n",
    "%%matlab\n",
    "A\n",
    "\n",
    "%%matlab\n",
    "B = single(A)\n",
    "\n",
    "%%matlab\n",
    "format short\n",
    "A(1,3) = 4i + 3\n",
    "\n",
    "%%matlab\n",
    "clear\n",
    "\n",
    "%%matlab\n",
    "rng(0)\n",
    "I1 = 255 * rand(100,100);\n",
    "I2 = 255 * rand(100,100);\n",
    "I3 = 255 * rand(100,100);\n",
    "\n",
    "%%matlab\n",
    "I = cat(3,I1,I2,I3);\n",
    "\n",
    "%%matlab\n",
    "I = uint8(I);\n",
    "\n",
    "%%matlab\n",
    "whos\n",
    "\n",
    "%%matlab\n",
    "imshow(I)\n",
    "\n",
    "%%matlab\n",
    "sample_1.location = 'Plougasnou';\n",
    "sample_1.date = date;\n",
    "sample_1.image = I;\n",
    "sample_1.geochemistry = rand(10,10);\n",
    "\n",
    "%%matlab\n",
    "location = 'Plougasnou';\n",
    "\n",
    "%%matlab\n",
    "whos location\n",
    "\n",
    "%%matlab\n",
    "sample_1.date\n",
    "\n",
    "%%matlab\n",
    "sample_1\n",
    "\n",
    "%%matlab\n",
    "whos sample_1\n",
    "\n",
    "%%matlab\n",
    "C = {'Plougasnou' date I rand(10,10)}\n",
    "\n",
    "%%matlab\n",
    "C\n",
    "\n",
    "%%matlab\n",
    "C{2}"
   ]
  },
  {
   "cell_type": "markdown",
   "metadata": {},
   "source": [
    "## 2.6 Data Storage and Handling"
   ]
  },
  {
   "cell_type": "code",
   "execution_count": null,
   "metadata": {
    "collapsed": true
   },
   "outputs": [],
   "source": [
    "%%matlab\n",
    "clear\n",
    "\n",
    "%%matlab\n",
    "load geochem.txt\n",
    "\n",
    "%%matlab\n",
    "whos\n",
    "\n",
    "%%matlab\n",
    "save geochem_new.mat\n",
    "\n",
    "%%matlab\n",
    "save geochem_new.mat geochem\n",
    "\n",
    "%%matlab\n",
    "save geochem_new.txt geochem -ascii\n",
    "\n",
    "%%matlab\n",
    "clear\n",
    "\n",
    "%%matlab\n",
    "fid = fopen('geochem.txt');\n",
    "C = textscan(fid,'%u %f %f','Headerlines',1,'CollectOutput',1);\n",
    "fclose(fid);\n",
    "\n",
    "%%matlab\n",
    "C\n",
    "\n",
    "%%matlab\n",
    "data1 = C{1}\n",
    "data2 = C{2}\n",
    "\n",
    "%%matlab\n",
    "data(:,1) = double(C{1})\n",
    "data(:,2:3) = C{2}\n",
    "\n",
    "%%matlab\n",
    "clear\n",
    "\n",
    "%%matlab\n",
    "fid = fopen('geophys.txt');\n",
    "data = textscan(fid,'%u %f %f %f %s %s','Headerlines',1);\n",
    "fclose(fid);\n",
    "\n",
    "%%matlab\n",
    "data_date_serial = datenum(data{5});\n",
    "data_time_serial = datenum(data{6});\n",
    "\n",
    "%%matlab\n",
    "data_date = datevec(data_date_serial)\n",
    "data_time = datevec(data_time_serial)\n",
    "\n",
    "%%matlab\n",
    "clear\n",
    "\n",
    "%%matlab\n",
    "data = load('geochem.txt');\n",
    "\n",
    "%%matlab\n",
    "data = data';\n",
    "\n",
    "%%matlab\n",
    "fid = fopen('geochem_formatted.txt','w');\n",
    "fprintf(fid,'%u %6.4f %6.4f\\n',data);\n",
    "fclose(fid);\n",
    "\n",
    "%%matlab\n",
    "edit geochem_formatted.txt"
   ]
  },
  {
   "cell_type": "markdown",
   "metadata": {},
   "source": [
    "## 2.7 Control Flow"
   ]
  },
  {
   "cell_type": "code",
   "execution_count": null,
   "metadata": {
    "collapsed": true
   },
   "outputs": [],
   "source": [
    "%% Section 2.7matlab\n",
    "clear\n",
    "\n",
    "%%matlab\n",
    "rng(0)\n",
    "A = rand(10,1)\n",
    "for i = 1 : 10\n",
    "    B(i,1) = round(10 * A(i));   \n",
    "end    \n",
    "B\n",
    "\n",
    "%%matlab\n",
    "rng(0)\n",
    "A = rand(10,3)\n",
    "for i = 1 : 10\n",
    "    for j = 1 : 3\n",
    "        B(i,j) = round(10 * A(i,j));  \n",
    "    end\n",
    "end    \n",
    "B\n",
    "\n",
    "%%matlab\n",
    "rng(0)\n",
    "A = rand(10,3)\n",
    "for i = 1 : size(A,1)\n",
    "    for j = 1 : size(A,2)\n",
    "        B(i,j) = round(10 * A(i,j));  \n",
    "    end\n",
    "end    \n",
    "B\n",
    "\n",
    "%%matlab\n",
    "clear\n",
    "\n",
    "%%matlab\n",
    "rng(0)\n",
    "A = rand(3,3); A(2,1) = NaN\n",
    "BC = rand(2,4); BC(2,2) = NaN\n",
    "DE = rand(1,2); DE(1,1) = NaN\n",
    "FG = rand(3,2); FG(2,2) = NaN\n",
    "\n",
    "%%matlab\n",
    "variables = who;\n",
    "\n",
    "%%matlab\n",
    "for i = 1 : size(variables,1)\n",
    "    v = eval(variables{i});\n",
    "    v(isnan(v)==1) = -999;\n",
    "    assignin('base',variables{i},v);\n",
    "    eval(variables{i})\n",
    "end\n",
    "\n",
    "clear i v variables\n",
    "\n",
    "%%matlab\n",
    "clear\n",
    "\n",
    "%%matlab\n",
    "A = 1\n",
    "B = 2\n",
    "if A < B\n",
    "    disp('A is less than B')\n",
    "end\n",
    "\n",
    "%%matlab\n",
    "A = 1\n",
    "B = 2\n",
    "if A < B\n",
    "    disp('A is less than B')\n",
    "else\n",
    "    disp('A is not less than B')\n",
    "end\n",
    "\n",
    "%%matlab\n",
    "A = 1\n",
    "B = 2\n",
    "if A < B\n",
    "    disp('A is less than B')\n",
    "elseif A >= B\n",
    "    disp('A is not less than B')\n",
    "end"
   ]
  },
  {
   "cell_type": "markdown",
   "metadata": {},
   "source": [
    "## 2.8 Scripts and Functions"
   ]
  },
  {
   "cell_type": "code",
   "execution_count": null,
   "metadata": {
    "collapsed": true
   },
   "outputs": [],
   "source": [
    "%% Section 2.8matlab\n",
    "clear\n",
    "\n",
    "%%matlab\n",
    "x = [3 6 2 -3 8];\n",
    "\n",
    "%%matlab\n",
    "average\n",
    "\n",
    "%%matlab\n",
    "whos\n",
    "\n",
    "%%matlab\n",
    "a = average\n",
    "\n",
    "%%matlab\n",
    "help average\n",
    "\n",
    "%%matlab\n",
    "clear\n",
    "\n",
    "%%matlab\n",
    "data = [3 6 2 -3 8];\n",
    "\n",
    "%%matlab\n",
    "result = average(data);\n",
    "\n",
    "%%matlab\n",
    "whos"
   ]
  },
  {
   "cell_type": "markdown",
   "metadata": {},
   "source": [
    "## 2.9 Basic Visualization Tools"
   ]
  },
  {
   "cell_type": "code",
   "execution_count": null,
   "metadata": {
    "collapsed": true
   },
   "outputs": [],
   "source": [
    "%% Section 2.9matlab\n",
    "clear\n",
    "\n",
    "%%matlab\n",
    "x = 0 : pi/10 : 2*pi;\n",
    "y = sin(x);\n",
    "\n",
    "%%matlab\n",
    "plot(x,y)\n",
    "\n",
    "%%matlab\n",
    "x = 0 : pi/10 : 2*pi;\n",
    "y1 = sin(x);\n",
    "y2 = cos(x);\n",
    "\n",
    "%%matlab\n",
    "plot(x,y1,'--',x,y2,'-')\n",
    "\n",
    "%%matlab\n",
    "plot(x,y1,'--')\n",
    "figure\n",
    "plot(x,y2,'-')\n",
    "\n",
    "%%matlab\n",
    "plot(x,y1,'r--')\n",
    "hold on\n",
    "bar(x,y2)\n",
    "hold off\n",
    "\n",
    "%%matlab\n",
    "subplot(2,1,1), plot(x,y1,'r--')\n",
    "subplot(2,1,2), bar(x,y2)\n",
    "\n",
    "%%matlab\n",
    "clf\n",
    "\n",
    "%%matlab\n",
    "plot(x,y1,'r--')\n",
    "axis([0 pi -1 1])\n",
    "\n",
    "%%matlab\n",
    "plot(x,y1,'r--')\n",
    "axis square\n",
    "\n",
    "%%matlab\n",
    "plot(x,y1,'r--')\n",
    "axis equal\n",
    "\n",
    "%%matlab\n",
    "plot(x,y1,'r--')\n",
    "title('My first plot')\n",
    "xlabel('x-axis')\n",
    "ylabel('y-axis')\n",
    "grid"
   ]
  },
  {
   "cell_type": "markdown",
   "metadata": {},
   "source": [
    "## 2.10 Generating Code to Recreate Graphics"
   ]
  },
  {
   "cell_type": "code",
   "execution_count": null,
   "metadata": {
    "collapsed": true
   },
   "outputs": [],
   "source": [
    "%% Section 2.10matlab\n",
    "clear\n",
    "\n",
    "%%matlab\n",
    "x = 0 : pi/10 : 2*pi;\n",
    "y1 = sin(x);\n",
    "plot(x,y1)\n",
    "\n",
    "%%matlab\n",
    "mygraph(x,y1)"
   ]
  },
  {
   "cell_type": "markdown",
   "metadata": {},
   "source": [
    "## 2.11 Publishing M-Files"
   ]
  },
  {
   "cell_type": "markdown",
   "metadata": {},
   "source": [
    "## 2.12 Creating Graphical User Interfaces"
   ]
  },
  {
   "cell_type": "code",
   "execution_count": null,
   "metadata": {
    "collapsed": true
   },
   "outputs": [],
   "source": [
    "%% Section 2.12matlab\n",
    "guide\n",
    "\n",
    "%%matlab\n",
    "gaussiantool\n",
    "\n",
    "%%matlab\n",
    "edit gaussiantool\n",
    "guide gaussiantool"
   ]
  },
  {
   "cell_type": "markdown",
   "metadata": {},
   "source": [
    "## Recommended Reading"
   ]
  },
  {
   "cell_type": "markdown",
   "metadata": {},
   "source": [
    "* Araghinejad S (2014) Data-Driven Modeling: Using MATLAB® in Water Resources and Environmental Engineering. Springer, Berlin Heidelberg New York  \n",
    "* Borradaile G (2003) Statistics of Earth Science Data – T eir Distribution in Time, Space and Orientation. Springer, Berlin Heidelberg New York  \n",
    "* Carr JR (1994) Numerical Analysis for the Geological Sciences. Prentice Hall, Englewood Clif s, New Jersey  \n",
    "* Davis JC (2002) Statistics and Data Analysis in Geology, T ird Edition. John Wiley and Sons, New York  \n",
    "* Gonzalez RC, Woods RE, Eddins SL (2009) Digital Image Processing Using MATLAB – 2nd Edition. Gatesmark Publishing, LLC  \n",
    "* Haneberg WC (2004) Computational Geosciences with Mathematica. Springer, Berlin Heidelberg New York  \n",
    "* Harker A (1909) T e Natural History of Igneous Rocks, Macmillan, New York  \n",
    "* Holzbecher E (2012) Environmental Modeling using MATLAB –  2nd Edition. Springer, Berlin Heidelberg New York  \n",
    "* Menke W, Menke J (2012) Environmental Data Analysis with MATLAB. Springer, Berlin Heidelberg New York  \n",
    "* Middleton GV (1999) Data Analysis in the Earth Sciences Using MATLAB. Prentice Hall, New Jersey  \n",
    "* Press WH, Teukolsky SA, Vetterling WT, Flannery BP (2007) Numerical Recipes: The Art of Scientifc Computing – 3rd Edition. Cambridge University Press, Cambridge  \n",
    "* Quarteroni A, Saleri F, Gervasio P (2014) Scientifc Computing with MATLAB and Octave – 4th Edition. Springer, Berlin Heidelberg New York  \n",
    "* Richter CF (1958) Elementary Seismology. WH Freeman and Company, San Francisco  \n",
    "* Swan ARH, Sandilands M (1995) Introduction to Geological Data Analysis. Blackwell Sciences, Oxford  \n",
    "* Wilks DS (2011) Statistical methods in the atmospheric sciences – 3rd Edition. Academic Press, Elsevier, Amsterdam  "
   ]
  },
  {
   "cell_type": "code",
   "execution_count": null,
   "metadata": {
    "collapsed": true
   },
   "outputs": [],
   "source": []
  }
 ],
 "metadata": {
  "anaconda-cloud": {},
  "kernelspec": {
   "display_name": "Python [default]",
   "language": "python",
   "name": "python3"
  },
  "language_info": {
   "codemirror_mode": {
    "name": "ipython",
    "version": 3
   },
   "file_extension": ".py",
   "mimetype": "text/x-python",
   "name": "python",
   "nbconvert_exporter": "python",
   "pygments_lexer": "ipython3",
   "version": "3.5.2"
  }
 },
 "nbformat": 4,
 "nbformat_minor": 1
}
