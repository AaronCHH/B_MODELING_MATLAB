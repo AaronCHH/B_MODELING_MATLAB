{
 "cells": [
  {
   "cell_type": "markdown",
   "metadata": {
    "deletable": true,
    "editable": true
   },
   "source": [
    "# 2 Basic Statistics\n",
    "## 2.1 Introduction\n",
    "## 2.2 Basic Definitions\n",
    "## 2.3 Graphical Demonstration of Data\n",
    "### 2.3.1 Histogram\n",
    "### 2.3.2 Box Plot\n",
    "## 2.4 Probability Distribution Functions\n",
    "### 2.4.1 Binomial Distribution\n",
    "### 2.4.2 Poisson Distribution Function\n",
    "### 2.4.3 Exponential Distribution Function\n",
    "### 2.4.4 Uniform Distribution Function\n",
    "### 2.4.5 Normal Distribution Function\n",
    "### 2.4.6 Lognormal Distribution Function\n",
    "## 2.5 Frequency Analysis\n",
    "## 2.6 Hypothetical Tests\n",
    "### 2.6.1 Testing the Parameters\n",
    "### 2.6.2 Distribution Fitting\n",
    "## 2.7 Summary\n",
    "## References"
   ]
  },
  {
   "cell_type": "code",
   "execution_count": null,
   "metadata": {
    "collapsed": true,
    "deletable": true,
    "editable": true
   },
   "outputs": [],
   "source": []
  }
 ],
 "metadata": {
  "anaconda-cloud": {},
  "kernelspec": {
   "display_name": "Python 3",
   "language": "python",
   "name": "python3"
  },
  "language_info": {
   "codemirror_mode": {
    "name": "ipython",
    "version": 3
   },
   "file_extension": ".py",
   "mimetype": "text/x-python",
   "name": "python",
   "nbconvert_exporter": "python",
   "pygments_lexer": "ipython3",
   "version": "3.6.0"
  }
 },
 "nbformat": 4,
 "nbformat_minor": 1
}
