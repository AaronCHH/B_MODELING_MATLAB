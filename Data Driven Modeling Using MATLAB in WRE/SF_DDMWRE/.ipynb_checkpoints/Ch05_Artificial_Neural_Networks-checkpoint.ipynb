{
 "cells": [
  {
   "cell_type": "markdown",
   "metadata": {},
   "source": [
    "# 5 Artificial Neural Networks\n",
    "## 5.1 Introduction\n",
    "## 5.2 Basic Definitions\n",
    "### 5.2.1 Components of an ANN\n",
    "### 5.2.2 Training Algorithm\n",
    "### 5.2.3 Mapping by ANNs\n",
    "## 5.3 Types of Artificial Neural Networks\n",
    "### 5.3.1 Multilayer Perceptron\n",
    "### 5.3.2 Dynamic Neural Networks\n",
    "### 5.3.3 Statistical Neural Networks\n",
    "## 5.4 Summary\n",
    "## References"
   ]
  },
  {
   "cell_type": "code",
   "execution_count": null,
   "metadata": {
    "collapsed": true
   },
   "outputs": [],
   "source": []
  }
 ],
 "metadata": {
  "anaconda-cloud": {},
  "kernelspec": {
   "display_name": "Python [default]",
   "language": "python",
   "name": "python3"
  },
  "language_info": {
   "codemirror_mode": {
    "name": "ipython",
    "version": 3
   },
   "file_extension": ".py",
   "mimetype": "text/x-python",
   "name": "python",
   "nbconvert_exporter": "python",
   "pygments_lexer": "ipython3",
   "version": "3.5.2"
  }
 },
 "nbformat": 4,
 "nbformat_minor": 1
}
