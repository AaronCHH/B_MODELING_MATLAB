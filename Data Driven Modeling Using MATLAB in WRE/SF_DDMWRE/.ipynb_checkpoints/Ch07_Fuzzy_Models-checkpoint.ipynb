{
 "cells": [
  {
   "cell_type": "markdown",
   "metadata": {},
   "source": [
    "# 7 Fuzzy Models\n",
    "## 7.1 Introduction\n",
    "## 7.2 Supportive Information\n",
    "### 7.2.1 Fuzzy Numbers\n",
    "### 7.2.2 Logical Operators\n",
    "## 7.3 Fuzzy Clustering\n",
    "## 7.4 Fuzzy Inference System\n",
    "## 7.5 Adaptive Neuro-Fuzzy Inference System\n",
    "## 7.6 Fuzzy Regression\n",
    "## 7.7 Summary\n",
    "## References"
   ]
  },
  {
   "cell_type": "code",
   "execution_count": null,
   "metadata": {
    "collapsed": true
   },
   "outputs": [],
   "source": []
  }
 ],
 "metadata": {
  "kernelspec": {
   "display_name": "Python [default]",
   "language": "python",
   "name": "python3"
  },
  "language_info": {
   "codemirror_mode": {
    "name": "ipython",
    "version": 3
   },
   "file_extension": ".py",
   "mimetype": "text/x-python",
   "name": "python",
   "nbconvert_exporter": "python",
   "pygments_lexer": "ipython3",
   "version": "3.5.2"
  }
 },
 "nbformat": 4,
 "nbformat_minor": 1
}
