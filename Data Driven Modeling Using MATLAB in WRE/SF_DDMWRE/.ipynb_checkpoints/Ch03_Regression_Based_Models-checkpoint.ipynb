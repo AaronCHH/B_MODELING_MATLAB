{
 "cells": [
  {
   "cell_type": "markdown",
   "metadata": {},
   "source": [
    "# 3 Regression-Based Model s\n",
    "## 3.1 Introduction\n",
    "## 3.2 Linear Regression\n",
    "### 3.2.1 Point and Interval Estimation\n",
    "### 3.2.2 Preprocessing of Data\n",
    "## 3.3 Nonlinear Regression\n",
    "## 3.4 Nonparametric Regression\n",
    "## 3.5 Logistic Regression\n",
    "## 3.6 Summary\n",
    "### References\n"
   ]
  },
  {
   "cell_type": "code",
   "execution_count": null,
   "metadata": {
    "collapsed": true
   },
   "outputs": [],
   "source": []
  }
 ],
 "metadata": {
  "anaconda-cloud": {},
  "kernelspec": {
   "display_name": "Python [default]",
   "language": "python",
   "name": "python3"
  },
  "language_info": {
   "codemirror_mode": {
    "name": "ipython",
    "version": 3
   },
   "file_extension": ".py",
   "mimetype": "text/x-python",
   "name": "python",
   "nbconvert_exporter": "python",
   "pygments_lexer": "ipython3",
   "version": "3.5.2"
  }
 },
 "nbformat": 4,
 "nbformat_minor": 1
}
