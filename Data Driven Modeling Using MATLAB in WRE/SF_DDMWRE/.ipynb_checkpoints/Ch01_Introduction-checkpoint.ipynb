{
 "cells": [
  {
   "cell_type": "markdown",
   "metadata": {
    "deletable": true,
    "editable": true
   },
   "source": [
    "# 1 Introduction\n",
    "## 1.1 Introduction\n",
    "## 1.2 Types of Models\n",
    "### 1.2.1 Physical Model\n",
    "### 1.2.2 Mathematical Model\n",
    "### 1.2.3 Analytical Model\n",
    "### 1.2.4 Data-Driven Model\n",
    "### 1.2.5 Conceptual Model\n",
    "## 1.3 Spatiotemporal Complexity of a Model\n",
    "### 1.3.1 Spatial Complexity\n",
    "### 1.3.2 Temporal Complexity\n",
    "## 1.4 Model Selection\n",
    "### 1.4.1 Purpose of Application\n",
    "### 1.4.2 Accuracy and Precision\n",
    "### 1.4.3 Availability of Data\n",
    "### 1.4.4 Type of Data\n",
    "## 1.5 General Approach to Develop a Data-Driven Model\n",
    "### 1.5.1 Conceptualization\n",
    "### 1.5.2 Model Calibration\n",
    "### 1.5.3 Model Validation\n",
    "### 1.5.4 Presenting the Results\n",
    "## 1.6 Beyond Developing a Model\n"
   ]
  },
  {
   "cell_type": "code",
   "execution_count": null,
   "metadata": {
    "collapsed": true,
    "deletable": true,
    "editable": true
   },
   "outputs": [],
   "source": []
  }
 ],
 "metadata": {
  "anaconda-cloud": {},
  "kernelspec": {
   "display_name": "Python 3",
   "language": "python",
   "name": "python3"
  },
  "language_info": {
   "codemirror_mode": {
    "name": "ipython",
    "version": 3
   },
   "file_extension": ".py",
   "mimetype": "text/x-python",
   "name": "python",
   "nbconvert_exporter": "python",
   "pygments_lexer": "ipython3",
   "version": "3.6.0"
  }
 },
 "nbformat": 4,
 "nbformat_minor": 1
}
