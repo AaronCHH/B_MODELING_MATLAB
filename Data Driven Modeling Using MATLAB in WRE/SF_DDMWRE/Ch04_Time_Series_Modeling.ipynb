{
 "cells": [
  {
   "cell_type": "markdown",
   "metadata": {},
   "source": [
    "# 4 Time Series Modeling\n",
    "## 4.1 Introduction\n",
    "## 4.2 Time Series Analysis\n",
    "### 4.2.1 Components of a Time Series\n",
    "### 4.2.2 Tests for Time Series\n",
    "## 4.3 Time Series Models\n",
    "### 4.3.1 Model Selection\n",
    "### 4.3.2 Order of Models\n",
    "### 4.3.3 Determining the Model Parameters\n",
    "### 4.3.4 Simulation and Validation\n",
    "### 4.3.5 Types of Time Series Models\n",
    "### 4.3.6 Order of Time Series Models\n",
    "### 4.3.7 Determining Parameters of the Time Series Models\n",
    "### 4.3.8 Simulation and Validation\n",
    "## 4.4 Summary\n",
    "## References\n",
    " "
   ]
  },
  {
   "cell_type": "code",
   "execution_count": null,
   "metadata": {
    "collapsed": true
   },
   "outputs": [],
   "source": []
  }
 ],
 "metadata": {
  "anaconda-cloud": {},
  "kernelspec": {
   "display_name": "Python [default]",
   "language": "python",
   "name": "python3"
  },
  "language_info": {
   "codemirror_mode": {
    "name": "ipython",
    "version": 3
   },
   "file_extension": ".py",
   "mimetype": "text/x-python",
   "name": "python",
   "nbconvert_exporter": "python",
   "pygments_lexer": "ipython3",
   "version": "3.5.2"
  }
 },
 "nbformat": 4,
 "nbformat_minor": 1
}
