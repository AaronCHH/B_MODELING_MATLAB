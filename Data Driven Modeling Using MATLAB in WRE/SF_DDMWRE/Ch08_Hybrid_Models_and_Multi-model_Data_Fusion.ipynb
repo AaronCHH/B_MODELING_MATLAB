{
 "cells": [
  {
   "cell_type": "markdown",
   "metadata": {},
   "source": [
    "# 8 Hybrid Models and Multi-model Data Fusion\n",
    "## 8.1 Introduction\n",
    "## 8.2 Characteristics of the Models\n",
    "## 8.3 Examples of Hybrid Models\n",
    "## 8.4 Multi-model Data Fusion\n",
    "### 8.4.1 Simple and Weighted Averaging Method\n",
    "### 8.4.2 Relying on the User・s Experience\n",
    "### 8.4.3 Using Empirical Models\n",
    "### 8.4.4 Using Statistical Methods\n",
    "### 8.4.5 Individual Model Generation\n",
    "## References"
   ]
  },
  {
   "cell_type": "code",
   "execution_count": null,
   "metadata": {
    "collapsed": true
   },
   "outputs": [],
   "source": []
  }
 ],
 "metadata": {
  "anaconda-cloud": {},
  "kernelspec": {
   "display_name": "Python [default]",
   "language": "python",
   "name": "python3"
  },
  "language_info": {
   "codemirror_mode": {
    "name": "ipython",
    "version": 3
   },
   "file_extension": ".py",
   "mimetype": "text/x-python",
   "name": "python",
   "nbconvert_exporter": "python",
   "pygments_lexer": "ipython3",
   "version": "3.5.2"
  }
 },
 "nbformat": 4,
 "nbformat_minor": 1
}
